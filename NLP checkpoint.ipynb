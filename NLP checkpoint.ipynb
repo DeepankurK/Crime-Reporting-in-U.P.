{
 "cells": [
  {
   "cell_type": "code",
   "execution_count": 5,
   "metadata": {},
   "outputs": [],
   "source": [
    "import pandas as pd\n",
    "import matplotlib.pyplot as plt\n",
    "import nltk\n",
    "import seaborn as sns\n",
    "sns.set_theme(style=\"darkgrid\")"
   ]
  },
  {
   "cell_type": "code",
   "execution_count": 4,
   "metadata": {},
   "outputs": [
    {
     "name": "stderr",
     "output_type": "stream",
     "text": [
      "[nltk_data] Downloading package names to /home/deepank/nltk_data...\n",
      "[nltk_data]   Package names is already up-to-date!\n",
      "[nltk_data] Downloading package stopwords to\n",
      "[nltk_data]     /home/deepank/nltk_data...\n",
      "[nltk_data]   Package stopwords is already up-to-date!\n",
      "[nltk_data] Downloading package state_union to\n",
      "[nltk_data]     /home/deepank/nltk_data...\n",
      "[nltk_data]   Package state_union is already up-to-date!\n",
      "[nltk_data] Downloading package twitter_samples to\n",
      "[nltk_data]     /home/deepank/nltk_data...\n",
      "[nltk_data]   Package twitter_samples is already up-to-date!\n",
      "[nltk_data] Downloading package movie_reviews to\n",
      "[nltk_data]     /home/deepank/nltk_data...\n",
      "[nltk_data]   Package movie_reviews is already up-to-date!\n",
      "[nltk_data] Downloading package averaged_perceptron_tagger to\n",
      "[nltk_data]     /home/deepank/nltk_data...\n",
      "[nltk_data]   Package averaged_perceptron_tagger is already up-to-\n",
      "[nltk_data]       date!\n",
      "[nltk_data] Downloading package vader_lexicon to\n",
      "[nltk_data]     /home/deepank/nltk_data...\n",
      "[nltk_data]   Package vader_lexicon is already up-to-date!\n",
      "[nltk_data] Downloading package punkt to /home/deepank/nltk_data...\n",
      "[nltk_data]   Package punkt is already up-to-date!\n",
      "[nltk_data] Downloading package wordnet to /home/deepank/nltk_data...\n",
      "[nltk_data]   Package wordnet is already up-to-date!\n",
      "[nltk_data] Downloading package averaged_perceptron_tagger to\n",
      "[nltk_data]     /home/deepank/nltk_data...\n",
      "[nltk_data]   Package averaged_perceptron_tagger is already up-to-\n",
      "[nltk_data]       date!\n"
     ]
    },
    {
     "data": {
      "text/plain": [
       "True"
      ]
     },
     "execution_count": 4,
     "metadata": {},
     "output_type": "execute_result"
    }
   ],
   "source": [
    "nltk.download([\n",
    "     \"names\",\n",
    "     \"stopwords\",\n",
    "     \"state_union\",\n",
    "     \"twitter_samples\",\n",
    "     \"movie_reviews\",\n",
    "     \"averaged_perceptron_tagger\",\n",
    "     \"vader_lexicon\",\n",
    "     \"punkt\",])\n",
    "nltk.download('wordnet')\n",
    "nltk.download('averaged_perceptron_tagger')"
   ]
  },
  {
   "cell_type": "code",
   "execution_count": 6,
   "metadata": {},
   "outputs": [
    {
     "name": "stdout",
     "output_type": "stream",
     "text": [
      "Index(['City ', 'Title', 'Text', 'Murder_reason', 'Kidnapping',\n",
      "       'Women_reason'],\n",
      "      dtype='object')\n"
     ]
    },
    {
     "data": {
      "text/plain": [
       "(506, 6)"
      ]
     },
     "execution_count": 6,
     "metadata": {},
     "output_type": "execute_result"
    }
   ],
   "source": [
    "df=pd.read_csv('./MR data .csv')\n",
    "pd.set_option('display.max_colwidth', None)\n",
    "df=df.fillna(0)\n",
    "print(df.columns)\n",
    "df.head(10)\n",
    "df.shape"
   ]
  },
  {
   "cell_type": "code",
   "execution_count": 7,
   "metadata": {},
   "outputs": [
    {
     "name": "stdout",
     "output_type": "stream",
     "text": [
      "(400, 6)\n"
     ]
    }
   ],
   "source": [
    "df2=df\n",
    "for i in range(0,len(df)):\n",
    "    if not (df.loc[i,'Women_reason']!=0 or df.loc[i,'Murder_reason']!=0 or df.loc[i,'Kidnapping']!=0):\n",
    "        df2=df2.drop([i])\n",
    "df2=df2.reset_index(drop=True)\n",
    "print(df2.shape)\n"
   ]
  },
  {
   "cell_type": "code",
   "execution_count": 8,
   "metadata": {},
   "outputs": [
    {
     "data": {
      "text/plain": [
       "'Murder Happened with reason:\\n1:Property/Land Disputes,\\n2:Family Dispute\\n3:Petty Quarrels,\\n4:Money Disputes, \\n5:Personal Vendetta, \\n6:Love Affairs, \\n7:Casteism\\n8: Unknown/other\\nCrime Against Women:\\n1. Murder with Rape \\n2. Dowry Deaths(Sec. 3048)\\n3. Suicide(sec 305/306)\\n4. Kidnapping(All)\\n5. Acid Attack(Sec. 326A IPC)\\n6. Cruelty by Husband/in-laws((Sec.498 A IPC)\\n7. Rape only(Sec. 376 or 511 IPC)\\n8. Assault on Women with Intent to Outrage her Modesty (Sec. 354 IPC)\\n9. Cyber Crimes against Women\\n10. Protection of Children from Sexual Offences Act'"
      ]
     },
     "execution_count": 8,
     "metadata": {},
     "output_type": "execute_result"
    }
   ],
   "source": [
    "'''Murder Happened with reason:\\n1:Property/Land Disputes,\\n2:Family Dispute\\n3:Petty Quarrels,\\n4:Money Disputes, \\n5:Personal Vendetta, \\n6:Love Affairs, \\n7:Casteism\\n8: Unknown/other\n",
    "Crime Against Women:\\n1. Murder with Rape \\n2. Dowry Deaths(Sec. 3048)\\n3. Suicide(sec 305/306)\\n4. Kidnapping(All)\\n5. Acid Attack(Sec. 326A IPC)\\n6. Cruelty by Husband/in-laws((Sec.498 A IPC)\\n7. Rape only(Sec. 376 or 511 IPC)\\n8. Assault on Women with Intent to Outrage her Modesty (Sec. 354 IPC)\\n9. Cyber Crimes against Women\\n10. Protection of Children from Sexual Offences Act'''\n"
   ]
  },
  {
   "cell_type": "code",
   "execution_count": 9,
   "metadata": {},
   "outputs": [],
   "source": [
    "text=[]\n",
    "for i in range(0,len(df2)):\n",
    "    text.append(nltk.word_tokenize(df2.loc[i,'Text']))"
   ]
  },
  {
   "cell_type": "code",
   "execution_count": 10,
   "metadata": {},
   "outputs": [],
   "source": [
    "from nltk.stem.wordnet import WordNetLemmatizer\n",
    "\n",
    "import re, string\n",
    "\n",
    "def remove_noise(tweet_tokens, stop_words = ()):\n",
    "\n",
    "    cleaned_tokens = []\n",
    "    rem=['’','“','”',\"'s\",'wa','ha']\n",
    "    for token in tweet_tokens:\n",
    "        token = re.sub('http[s]?://(?:[a-zA-Z]|[0-9]|[$-_@.&+#]|[!*\\(\\),]|'\\\n",
    "                       '(?:%[0-9a-fA-F][0-9a-fA-F]))+','', token)\n",
    "        token = re.sub(\"(@[A-Za-z0-9_]+)\",\"\", token)\n",
    "\n",
    "        lemmatizer = WordNetLemmatizer()\n",
    "        token = lemmatizer.lemmatize(token)\n",
    "\n",
    "        if len(token) > 0 and token not in rem and not token.isdecimal() and token not in string.punctuation and token.lower() not in stop_words:\n",
    "            cleaned_tokens.append(token.lower())\n",
    "    return cleaned_tokens"
   ]
  },
  {
   "cell_type": "code",
   "execution_count": 11,
   "metadata": {},
   "outputs": [],
   "source": [
    "from nltk.corpus import stopwords\n",
    "stop_words = stopwords.words('english')\n",
    "\n",
    "clean_text=[]\n",
    "\n",
    "for i in text:\n",
    "    clean_text.append(remove_noise(i,stop_words))"
   ]
  },
  {
   "cell_type": "code",
   "execution_count": 12,
   "metadata": {},
   "outputs": [],
   "source": [
    "def get_all_words(cleaned_tokens_list):\n",
    "    for tokens in cleaned_tokens_list:\n",
    "        for token in tokens:\n",
    "            yield token"
   ]
  },
  {
   "cell_type": "code",
   "execution_count": 13,
   "metadata": {},
   "outputs": [],
   "source": [
    "from nltk import FreqDist\n",
    "all_words=get_all_words(clean_text)\n",
    "fd = FreqDist(all_words)"
   ]
  },
  {
   "cell_type": "code",
   "execution_count": 14,
   "metadata": {},
   "outputs": [
    {
     "data": {
      "text/plain": [
       "['lucknow',\n",
       " 'customer',\n",
       " 'knifed',\n",
       " 'fish',\n",
       " 'vendor',\n",
       " 'death',\n",
       " 'chinhat',\n",
       " 'market',\n",
       " 'late',\n",
       " 'sunday',\n",
       " 'afternoon',\n",
       " 'latter',\n",
       " 'refused',\n",
       " 'reduce',\n",
       " 'price',\n",
       " 'rohu',\n",
       " 'rs',\n",
       " 'nabbed',\n",
       " 'shocked',\n",
       " 'onlooker',\n",
       " 'brief',\n",
       " 'chase',\n",
       " 'handed',\n",
       " 'police',\n",
       " 'deceased',\n",
       " 'rakesh',\n",
       " 'kashyap',\n",
       " 'resident',\n",
       " 'buddha',\n",
       " 'vihar',\n",
       " 'chinhat',\n",
       " 'police',\n",
       " 'identified',\n",
       " 'accused',\n",
       " 'naveen',\n",
       " 'kumbhkar',\n",
       " 'native',\n",
       " 'chhattisgarh',\n",
       " 'life',\n",
       " 'chinhat',\n",
       " 'eyewitnesses',\n",
       " 'said',\n",
       " 'bizarre',\n",
       " 'attack',\n",
       " 'took',\n",
       " 'place',\n",
       " 'around',\n",
       " '4pm',\n",
       " 'buyer',\n",
       " 'naveen',\n",
       " 'haggling',\n",
       " 'price',\n",
       " 'rohu',\n",
       " 'wanted',\n",
       " 'vendor',\n",
       " 'lower',\n",
       " 'rate',\n",
       " 'rs',\n",
       " 'latter',\n",
       " 'refused',\n",
       " 'perhaps',\n",
       " 'taunted',\n",
       " 'petty',\n",
       " 'infuriated',\n",
       " 'man',\n",
       " 'grabbed',\n",
       " 'knife',\n",
       " 'fish',\n",
       " 'stall',\n",
       " 'attacked',\n",
       " 'vendor',\n",
       " 'said',\n",
       " 'eyewitness',\n",
       " 'naveen',\n",
       " 'first',\n",
       " 'made',\n",
       " 'lightning',\n",
       " 'swipe',\n",
       " 'rakesh',\n",
       " 'throat',\n",
       " 'randomly',\n",
       " 'stabbed',\n",
       " 'time',\n",
       " 'vendor',\n",
       " 'bled',\n",
       " 'profusely',\n",
       " 'attacker',\n",
       " 'tried',\n",
       " 'flee',\n",
       " 'flashing',\n",
       " 'knife',\n",
       " 'anyone',\n",
       " 'tried',\n",
       " 'come',\n",
       " 'way',\n",
       " 'nevertheless',\n",
       " 'overpowered',\n",
       " 'handed',\n",
       " 'police',\n",
       " 'vendor',\n",
       " 'rushed',\n",
       " 'hospital',\n",
       " 'survive',\n",
       " 'said',\n",
       " 'another',\n",
       " 'eyewitness',\n",
       " 'chinhat',\n",
       " 'sho',\n",
       " 'sachin',\n",
       " 'kumar',\n",
       " 'confirmed',\n",
       " 'naveen',\n",
       " 'arrest',\n",
       " 'yet',\n",
       " 'recover',\n",
       " 'knife',\n",
       " 'accused',\n",
       " 'probably',\n",
       " 'threw',\n",
       " 'away',\n",
       " 'confronted',\n",
       " 'mob',\n",
       " 'kumar',\n",
       " 'said',\n",
       " 'adding',\n",
       " 'family',\n",
       " 'deceased',\n",
       " 'yet',\n",
       " 'lodge',\n",
       " 'case']"
      ]
     },
     "execution_count": 14,
     "metadata": {},
     "output_type": "execute_result"
    }
   ],
   "source": [
    "clean_text[-1]"
   ]
  },
  {
   "cell_type": "code",
   "execution_count": 15,
   "metadata": {},
   "outputs": [
    {
     "name": "stdout",
     "output_type": "stream",
     "text": [
      "[('police', 1431), ('said', 1252), ('girl', 532), ('accused', 525), ('woman', 446), ('house', 340), ('two', 330), ('family', 325), ('case', 321), ('singh', 309), ('complaint', 296), ('station', 293), ('body', 291), ('also', 284), ('told', 279), ('kumar', 279), ('found', 275), ('around', 250), ('allegedly', 247), ('lucknow', 246), ('father', 245), ('ghaziabad', 236), ('arrested', 229), ('area', 208), ('murder', 207), ('home', 204), ('man', 198), ('took', 195), ('hospital', 195), ('added', 194), ('fir', 193), ('three', 179), ('later', 178), ('sho', 175), ('victim', 173), ('daughter', 171), ('one', 171), ('resident', 169), ('registered', 167), ('husband', 164), ('wife', 160), ('incident', 160), ('year', 159), ('officer', 158), ('lodged', 155), ('section', 146), ('mother', 144), ('son', 143), ('kanpur', 142), ('wednesday', 141)]\n"
     ]
    }
   ],
   "source": [
    "print(fd.most_common(50))"
   ]
  },
  {
   "cell_type": "code",
   "execution_count": 16,
   "metadata": {},
   "outputs": [
    {
     "name": "stdout",
     "output_type": "stream",
     "text": [
      "59055\n"
     ]
    }
   ],
   "source": [
    "import itertools\n",
    "clean_text_all=list(itertools.chain.from_iterable(clean_text))\n",
    "print (len(clean_text_all))"
   ]
  },
  {
   "cell_type": "code",
   "execution_count": 17,
   "metadata": {},
   "outputs": [
    {
     "data": {
      "text/plain": [
       "[(('victim', 'identity', 'revealed'), 29),\n",
       " (('identity', 'revealed', 'protect'), 29),\n",
       " (('revealed', 'protect', 'privacy'), 29),\n",
       " (('protect', 'privacy', 'per'), 29),\n",
       " (('privacy', 'per', 'supreme'), 29),\n",
       " (('per', 'supreme', 'court'), 29),\n",
       " (('supreme', 'court', 'directive'), 29),\n",
       " (('court', 'directive', 'case'), 29),\n",
       " (('directive', 'case', 'related'), 29),\n",
       " (('case', 'related', 'sexual'), 29),\n",
       " (('related', 'sexual', 'assault'), 29),\n",
       " (('declared', 'brought', 'dead'), 28),\n",
       " (('nagar', 'police', 'station'), 25),\n",
       " (('station', 'house', 'officer'), 25),\n",
       " (('kavi', 'nagar', 'police'), 24),\n",
       " (('police', 'station', 'said'), 23),\n",
       " (('incident', 'took', 'place'), 23),\n",
       " (('kgmu', 'trauma', 'centre'), 21),\n",
       " (('protection', 'children', 'sexual'), 20),\n",
       " (('children', 'sexual', 'offences'), 20),\n",
       " (('sexual', 'offences', 'pocso'), 17),\n",
       " (('offences', 'pocso', 'act'), 17),\n",
       " (('police', 'officer', 'said'), 17),\n",
       " (('police', 'control', 'room'), 17),\n",
       " (('indirapuram', 'police', 'station'), 15),\n",
       " (('police', 'said', 'accused'), 15),\n",
       " (('police', 'station', 'area'), 15),\n",
       " (('lying', 'pool', 'blood'), 14),\n",
       " (('neeraj', 'kumar', 'jadaun'), 14),\n",
       " (('kalanidhi', 'naithani', 'said'), 14),\n",
       " (('booked', 'ipc', 'section'), 13),\n",
       " (('sihani', 'gate', 'police'), 13),\n",
       " (('gate', 'police', 'station'), 13),\n",
       " (('ssp', 'lucknow', 'kalanidhi'), 13),\n",
       " (('lucknow', 'kalanidhi', 'naithani'), 13),\n",
       " (('city', 'shlok', 'kumar'), 12),\n",
       " (('lodged', 'police', 'complaint'), 12),\n",
       " (('relevant', 'section', 'ipc'), 12),\n",
       " (('incident', 'came', 'light'), 12),\n",
       " (('sexual', 'assault', 'lucknow'), 12),\n",
       " (('sp', 'city', 'shlok'), 11),\n",
       " (('shlok', 'kumar', 'sp'), 11),\n",
       " (('district', 'government', 'counsel'), 11),\n",
       " (('kumar', 'singh', 'said'), 11),\n",
       " (('year', 'rigorous', 'imprisonment'), 11),\n",
       " (('indian', 'penal', 'code'), 11),\n",
       " (('police', 'station', 'told'), 10),\n",
       " (('kumar', 'sp', 'city'), 10),\n",
       " (('kotwali', 'police', 'station'), 10),\n",
       " (('icon', 'created', 'sketch'), 10),\n",
       " (('district', 'session', 'judge'), 10),\n",
       " (('police', 'registered', 'case'), 10),\n",
       " (('sho', 'kavi', 'nagar'), 9),\n",
       " (('said', 'police', 'officer'), 9),\n",
       " (('voluntarily', 'causing', 'hurt'), 9),\n",
       " (('section', 'protection', 'children'), 9),\n",
       " (('imposed', 'fine', 'rs'), 9),\n",
       " (('body', 'sent', 'postmortem'), 9),\n",
       " (('allegedly', 'committed', 'suicide'), 9),\n",
       " (('worth', 'rs', 'lakh'), 9),\n",
       " (('crime', 'took', 'place'), 9),\n",
       " (('additional', 'district', 'government'), 9),\n",
       " (('took', 'place', 'around'), 9),\n",
       " (('said', 'case', 'registered'), 9),\n",
       " (('girl', 'family', 'member'), 9),\n",
       " (('additional', 'district', 'session'), 9),\n",
       " (('said', 'sp', 'rural'), 8),\n",
       " (('said', 'shlok', 'kumar'), 8),\n",
       " (('relevant', 'section', 'protection'), 8),\n",
       " (('also', 'imposed', 'fine'), 8),\n",
       " (('admitted', 'private', 'hospital'), 8),\n",
       " (('government', 'counsel', 'adgc'), 8),\n",
       " (('police', 'registered', 'fir'), 8),\n",
       " (('police', 'said', 'woman'), 8),\n",
       " (('masuri', 'police', 'station'), 8),\n",
       " (('kumar', 'singh', 'sho'), 8),\n",
       " (('police', 'station', 'saturday'), 8),\n",
       " (('kumar', 'told', 'toi'), 8),\n",
       " (('doctor', 'declared', 'brought'), 8),\n",
       " (('police', 'said', 'victim'), 8),\n",
       " (('said', 'victim', 'identity'), 8),\n",
       " (('said', 'police', 'official'), 8),\n",
       " (('imprisonment', 'along', 'fine'), 8),\n",
       " (('referred', 'kgmu', 'trauma'), 8),\n",
       " (('sexual', 'assault', 'kanpur'), 8),\n",
       " (('shlok', 'kumar', 'said'), 7),\n",
       " (('police', 'team', 'sent'), 7),\n",
       " (('station', 'told', 'toi'), 7),\n",
       " (('informed', 'police', 'control'), 7),\n",
       " (('sp', 'city', 'ghaziabad'), 7),\n",
       " (('committed', 'suicide', 'hanging'), 7),\n",
       " (('rs', 'lakh', 'cash'), 7),\n",
       " (('broke', 'open', 'door'), 7),\n",
       " (('threatened', 'dire', 'consequence'), 7),\n",
       " (('sihani', 'gate', 'area'), 7),\n",
       " (('sp', 'rural', 'neeraj'), 7),\n",
       " (('rural', 'neeraj', 'kumar'), 7),\n",
       " (('prima', 'facie', 'appears'), 7),\n",
       " (('according', 'police', 'accused'), 7),\n",
       " (('police', 'said', 'deceased'), 7)]"
      ]
     },
     "execution_count": 17,
     "metadata": {},
     "output_type": "execute_result"
    }
   ],
   "source": [
    "finder = nltk.collocations.TrigramCollocationFinder.from_words(clean_text_all)\n",
    "finder.ngram_fd.most_common(100)"
   ]
  },
  {
   "cell_type": "code",
   "execution_count": 18,
   "metadata": {},
   "outputs": [
    {
     "data": {
      "text/plain": [
       "[(('police', 'station'), 242),\n",
       " (('police', 'said'), 237),\n",
       " (('told', 'toi'), 99),\n",
       " (('family', 'member'), 94),\n",
       " (('said', 'police'), 81),\n",
       " (('told', 'police'), 74),\n",
       " (('singh', 'said'), 73),\n",
       " (('according', 'police'), 71),\n",
       " (('rs', 'lakh'), 57),\n",
       " (('kavi', 'nagar'), 47),\n",
       " (('informed', 'police'), 46),\n",
       " (('sexual', 'assault'), 45),\n",
       " (('fir', 'registered'), 44),\n",
       " (('took', 'place'), 44),\n",
       " (('pocso', 'act'), 43),\n",
       " ((\"''\", 'said'), 39),\n",
       " (('girl', 'father'), 37),\n",
       " (('ipc', 'section'), 37),\n",
       " (('officer', 'said'), 37),\n",
       " (('case', 'registered'), 37)]"
      ]
     },
     "execution_count": 18,
     "metadata": {},
     "output_type": "execute_result"
    }
   ],
   "source": [
    "finder = nltk.collocations.BigramCollocationFinder.from_words(clean_text_all)\n",
    "finder.ngram_fd.most_common(20)"
   ]
  },
  {
   "cell_type": "code",
   "execution_count": 19,
   "metadata": {},
   "outputs": [
    {
     "data": {
      "text/plain": [
       "[(('victim', 'identity', 'revealed', 'protect'), 29),\n",
       " (('identity', 'revealed', 'protect', 'privacy'), 29),\n",
       " (('revealed', 'protect', 'privacy', 'per'), 29),\n",
       " (('protect', 'privacy', 'per', 'supreme'), 29),\n",
       " (('privacy', 'per', 'supreme', 'court'), 29),\n",
       " (('per', 'supreme', 'court', 'directive'), 29),\n",
       " (('supreme', 'court', 'directive', 'case'), 29),\n",
       " (('court', 'directive', 'case', 'related'), 29),\n",
       " (('directive', 'case', 'related', 'sexual'), 29),\n",
       " (('case', 'related', 'sexual', 'assault'), 29),\n",
       " (('protection', 'children', 'sexual', 'offences'), 20),\n",
       " (('kavi', 'nagar', 'police', 'station'), 20),\n",
       " (('children', 'sexual', 'offences', 'pocso'), 17),\n",
       " (('sexual', 'offences', 'pocso', 'act'), 17),\n",
       " (('sihani', 'gate', 'police', 'station'), 13),\n",
       " (('ssp', 'lucknow', 'kalanidhi', 'naithani'), 13),\n",
       " (('related', 'sexual', 'assault', 'lucknow'), 12),\n",
       " (('sp', 'city', 'shlok', 'kumar'), 11),\n",
       " (('shlok', 'kumar', 'sp', 'city'), 10),\n",
       " (('section', 'protection', 'children', 'sexual'), 9)]"
      ]
     },
     "execution_count": 19,
     "metadata": {},
     "output_type": "execute_result"
    }
   ],
   "source": [
    "finder = nltk.collocations.QuadgramCollocationFinder.from_words(clean_text_all)\n",
    "finder.ngram_fd.most_common(20)"
   ]
  },
  {
   "cell_type": "code",
   "execution_count": 20,
   "metadata": {},
   "outputs": [
    {
     "name": "stdout",
     "output_type": "stream",
     "text": [
      "-0.3139571428571429\n",
      "-0.10071290322580645\n",
      "-0.2908733333333333\n",
      "-0.31464285714285717\n",
      "-0.29018421052631577\n",
      "-0.22986470588235294\n",
      "-0.08157857142857144\n",
      "-0.47988571428571425\n",
      "-0.2550181818181818\n",
      "-0.20394545454545454\n",
      "-0.15777083333333333\n",
      "-0.3133923076923077\n",
      "-0.24532857142857142\n",
      "-0.183745\n",
      "-0.3286235294117647\n",
      "-0.3476266666666667\n",
      "-0.1817111111111111\n",
      "-0.2556764705882353\n",
      "-0.3769125\n",
      "-0.32505833333333334\n",
      "-0.42335999999999996\n",
      "-0.14687\n",
      "-0.310056\n",
      "-0.020075000000000006\n",
      "-0.48536999999999997\n",
      "-0.22796296296296298\n",
      "-0.26513333333333333\n",
      "-0.20574615384615383\n",
      "-0.3371692307692308\n",
      "-0.20586470588235295\n",
      "-0.19059333333333334\n",
      "-0.1754181818181818\n",
      "-0.3741222222222222\n",
      "-0.21030666666666667\n",
      "-0.11406249999999998\n",
      "-0.29804444444444445\n",
      "-0.5766\n",
      "-0.18266923076923075\n",
      "-0.10613636363636364\n",
      "-0.3526111111111111\n",
      "-0.18395\n",
      "-0.24236923076923078\n",
      "-0.22991111111111112\n",
      "-0.08504999999999999\n",
      "-0.239375\n",
      "-0.17566315789473685\n",
      "-0.35568235294117645\n",
      "-0.5317933333333333\n",
      "-0.3538818181818182\n",
      "-0.06945833333333334\n",
      "-0.53038\n",
      "-0.12538749999999999\n",
      "-0.26112\n",
      "-0.21203076923076922\n",
      "-0.30202666666666667\n",
      "-0.31742105263157894\n",
      "-0.5166333333333333\n",
      "-0.05988461538461538\n",
      "-0.22082000000000002\n",
      "-0.30124375\n",
      "-0.18710526315789472\n",
      "-0.15818235294117647\n",
      "-0.3686391304347826\n",
      "-0.18795294117647057\n",
      "-0.33087647058823527\n",
      "-0.08151\n",
      "-0.3846333333333333\n",
      "-0.034164\n",
      "-0.30223529411764705\n",
      "-0.3189090909090909\n",
      "-0.41640625\n",
      "-0.24131999999999998\n",
      "-0.27989375\n",
      "-0.289275\n",
      "-0.21418571428571428\n",
      "-0.329756\n",
      "-0.3375\n",
      "-0.32161666666666666\n",
      "-0.37383571428571427\n",
      "-0.17264285714285713\n",
      "-0.3584076923076923\n",
      "-0.2633\n",
      "-0.3059545454545454\n",
      "-0.38150625\n",
      "-0.2710166666666667\n",
      "-0.10304444444444444\n",
      "-0.3601\n",
      "-0.2583533333333333\n",
      "-0.36064285714285715\n",
      "-0.2734666666666667\n",
      "-0.30013999999999996\n",
      "-0.30879999999999996\n",
      "-0.14861818181818182\n",
      "-0.11937777777777778\n",
      "-0.1285\n",
      "-0.39348571428571427\n",
      "-0.2918857142857143\n",
      "-0.18185652173913044\n",
      "-0.49145\n",
      "-0.33696363636363635\n",
      "-0.42213\n",
      "-0.4091625\n",
      "-0.2431970588235294\n",
      "-0.26998666666666665\n",
      "-0.3466142857142857\n",
      "-0.3481916666666667\n",
      "-0.14449433962264152\n",
      "-0.294\n",
      "-0.32946000000000003\n",
      "-0.32357857142857144\n",
      "-0.15395882352941176\n",
      "-0.30036153846153846\n",
      "-0.29786999999999997\n",
      "-0.058363636363636354\n",
      "-0.10345625\n",
      "-0.4471\n",
      "-0.22475555555555554\n",
      "-0.11465\n",
      "-0.3283375\n",
      "-0.12122000000000001\n",
      "-0.12432499999999999\n",
      "-0.23295\n",
      "-0.08075333333333333\n",
      "-0.2198235294117647\n",
      "-0.20783333333333334\n",
      "-0.04684615384615384\n",
      "-0.3452235294117647\n",
      "-0.49288333333333334\n",
      "-0.012939999999999995\n",
      "-0.03864444444444445\n",
      "0.020592857142857142\n",
      "-0.23701333333333333\n",
      "-0.12861333333333333\n",
      "-0.34784\n",
      "-0.4235\n",
      "-0.19396190476190475\n",
      "-0.07274545454545454\n",
      "-0.12873333333333334\n",
      "-0.2927222222222222\n",
      "-0.08722499999999998\n",
      "-0.3132923076923077\n",
      "-0.17620833333333333\n",
      "-0.28361333333333333\n",
      "-0.2242470588235294\n",
      "-0.3316133333333333\n",
      "-0.15367692307692307\n",
      "-0.6000384615384615\n",
      "-0.1422142857142857\n",
      "-0.31083809523809525\n",
      "-0.25344285714285714\n",
      "-0.41859999999999997\n",
      "-0.07715\n",
      "-0.2566\n",
      "-0.48265\n",
      "-0.41557499999999997\n",
      "-0.16123076923076923\n",
      "-0.27061666666666667\n",
      "-0.44507142857142856\n",
      "-0.31475454545454545\n",
      "-0.3958888888888889\n",
      "-0.2624444444444444\n",
      "-0.24638\n",
      "-0.25898333333333334\n",
      "-0.331875\n",
      "-0.1012875\n",
      "-0.2714\n",
      "-0.25274166666666664\n",
      "-0.19784999999999997\n",
      "-0.26544615384615383\n",
      "-0.23507142857142857\n",
      "-0.14762727272727272\n",
      "-0.287844\n",
      "-0.2037\n",
      "-0.3971928571428571\n",
      "-0.5463\n",
      "-0.07428\n",
      "-0.3097909090909091\n",
      "-0.5688333333333333\n",
      "-0.26907000000000003\n",
      "-0.135275\n",
      "-0.28712666666666664\n",
      "-0.2555357142857143\n",
      "-0.31959444444444446\n",
      "-0.275025\n",
      "-0.31105\n",
      "-0.30977777777777776\n",
      "-0.3706\n",
      "-0.17525555555555555\n",
      "-0.20077000000000003\n",
      "-0.32476363636363637\n",
      "-0.34165\n",
      "-0.5689\n",
      "-0.060177777777777774\n",
      "-0.3517\n",
      "-0.042575\n",
      "-0.3905666666666667\n",
      "-0.2858764705882353\n",
      "-0.18274\n",
      "-0.23668235294117648\n",
      "-0.31518\n",
      "-0.30002142857142855\n",
      "-0.2440909090909091\n",
      "-0.16917333333333334\n",
      "-0.31031764705882353\n",
      "-0.4733142857142857\n",
      "-0.291525\n",
      "-0.358125\n",
      "-0.2852875\n",
      "-0.38565\n",
      "-0.35849166666666665\n",
      "-0.19832666666666665\n",
      "-0.19582142857142856\n",
      "-0.39758333333333334\n",
      "-0.24591428571428572\n",
      "-0.5034142857142857\n",
      "-0.20299166666666665\n",
      "-0.24853333333333333\n",
      "-0.5183428571428571\n",
      "-0.29451428571428573\n",
      "-0.14203333333333334\n",
      "-0.35546923076923076\n",
      "-0.5439473684210526\n",
      "-0.3777\n",
      "-0.22696666666666668\n",
      "-0.4003583333333333\n",
      "-0.3462909090909091\n",
      "-0.32225714285714285\n",
      "-0.4008857142857143\n",
      "-0.33321666666666666\n",
      "-0.2586125\n",
      "-0.286825\n",
      "-0.351325\n",
      "-0.22198333333333334\n",
      "-0.283925\n",
      "-0.00200909090909091\n",
      "-0.04594166666666666\n",
      "-0.15788333333333332\n",
      "-0.12723333333333334\n",
      "-0.1953\n",
      "-0.39061999999999997\n",
      "-0.44713\n",
      "-0.4252666666666666\n",
      "-0.5329333333333334\n",
      "-0.3316133333333333\n",
      "-0.1635375\n",
      "-0.2979090909090909\n",
      "-0.27999\n",
      "-0.16543846153846153\n",
      "-0.2478111111111111\n",
      "-0.210025\n",
      "-0.15367692307692307\n",
      "-0.3495\n",
      "-0.42746666666666666\n",
      "-0.26548571428571427\n",
      "-0.35561875\n",
      "-0.2673428571428571\n",
      "-0.1934235294117647\n",
      "-0.3634\n",
      "-0.07152272727272727\n",
      "-0.2693590909090909\n",
      "-0.18564615384615382\n",
      "-0.20484444444444444\n",
      "-0.27214\n",
      "-0.34435\n",
      "-0.07293846153846154\n",
      "-0.31475454545454545\n",
      "-0.16407727272727274\n",
      "-0.09312\n",
      "-0.413375\n",
      "-0.0719\n",
      "-0.24952999999999997\n",
      "-0.3437764705882353\n",
      "-0.3508\n",
      "-0.20133333333333334\n",
      "-0.191575\n",
      "-0.2519181818181818\n",
      "-0.3776454545454545\n",
      "-0.4088818181818182\n",
      "-0.049635\n",
      "-0.09251428571428572\n",
      "-0.11988000000000001\n",
      "-0.23627692307692308\n",
      "0.011868750000000004\n",
      "-0.31429090909090907\n",
      "-0.2993272727272727\n",
      "-0.2872529411764706\n",
      "-0.292821052631579\n",
      "-0.2576\n",
      "-0.53688\n",
      "-0.5745666666666667\n",
      "-0.3367833333333333\n",
      "-0.07536666666666667\n",
      "-0.35840666666666665\n",
      "-0.41795\n",
      "-0.28842727272727275\n",
      "-0.1836125\n",
      "-0.22985555555555554\n",
      "-0.17006296296296297\n",
      "-0.23823846153846154\n",
      "-0.41025\n",
      "-0.2477\n",
      "-0.24056666666666668\n",
      "-0.26343333333333335\n",
      "-0.22687\n",
      "-0.29649444444444445\n",
      "-0.19096666666666667\n",
      "-0.34700000000000003\n",
      "-0.42745\n",
      "-0.23604499999999998\n",
      "-0.26884545454545455\n",
      "-0.1977736842105263\n",
      "-0.3971727272727273\n",
      "-0.2671363636363636\n",
      "-0.33255454545454544\n",
      "-0.5266090909090909\n",
      "-0.4065\n",
      "-0.4335866666666667\n",
      "-0.3663368421052632\n",
      "-0.25489\n",
      "-0.48403\n",
      "-0.05009999999999999\n",
      "-0.34358181818181815\n",
      "-0.40541\n",
      "-0.18042\n",
      "-0.14795624999999998\n",
      "-0.3177235294117647\n",
      "-0.4013083333333333\n",
      "-0.1759\n",
      "-0.5310666666666667\n",
      "-0.36192\n",
      "-0.22976249999999998\n",
      "-0.4067636363636364\n",
      "-0.13780714285714285\n",
      "-0.2696708333333333\n",
      "-0.19504\n",
      "-0.18359999999999999\n",
      "-0.1444\n",
      "-0.3785642857142857\n",
      "-0.19843846153846154\n",
      "-0.3608941176470588\n",
      "-0.3009588235294118\n",
      "-0.0791388888888889\n",
      "-0.3109\n",
      "-0.31840833333333335\n",
      "-0.018862500000000004\n",
      "-0.3114\n",
      "-0.42362222222222223\n",
      "-0.40641\n",
      "-0.23879166666666665\n",
      "-0.2580181818181818\n",
      "-0.05697333333333333\n",
      "-0.41871176470588234\n",
      "-0.08899285714285714\n",
      "-0.14521875\n",
      "-0.3138444444444444\n",
      "-0.17461666666666667\n",
      "-0.1318\n",
      "-0.353425\n",
      "-0.23452499999999998\n",
      "-0.30118181818181816\n",
      "-0.23686666666666667\n",
      "-0.17368\n",
      "-0.27962\n",
      "0.013442857142857137\n",
      "-0.16670000000000001\n",
      "-0.206175\n",
      "-0.215585\n",
      "-0.20261666666666667\n",
      "-0.5119333333333334\n",
      "-0.33951176470588235\n",
      "-0.0967391304347826\n",
      "-0.24877894736842104\n",
      "-0.2809095238095238\n",
      "-0.33525\n",
      "-0.4258875\n",
      "-0.1788857142857143\n",
      "-0.08951428571428571\n",
      "-0.29118636363636363\n",
      "-0.13534\n",
      "-0.34715\n",
      "-0.21001666666666666\n",
      "-0.2548333333333333\n",
      "-0.3323548387096774\n",
      "-0.10658000000000001\n",
      "-0.123825\n",
      "-0.035025\n",
      "-0.1676923076923077\n",
      "-0.2289111111111111\n",
      "-0.31137333333333334\n",
      "-0.268025\n",
      "-0.1445\n",
      "-0.38692727272727273\n",
      "-0.1265\n",
      "-0.4389\n",
      "-0.2741636363636364\n",
      "-0.44495454545454544\n",
      "-0.24392000000000003\n",
      "-0.4249428571428571\n",
      "-0.18836\n",
      "-0.3855571428571428\n",
      "-394 400\n",
      "-0.26785788566466784\n"
     ]
    }
   ],
   "source": [
    "from statistics import mean\n",
    "from nltk.sentiment import SentimentIntensityAnalyzer\n",
    "sia = SentimentIntensityAnalyzer()\n",
    "cnt=0\n",
    "ls=[]\n",
    "for i in range(0,len(text)):\n",
    "    scores = [sia.polarity_scores(sentence)[\"compound\"] for sentence in nltk.sent_tokenize(df2.loc[i,'Text'])]\n",
    "    m=mean(scores)\n",
    "    print(m)\n",
    "    ls.append(m)\n",
    "    if m>0:\n",
    "        cnt+=1\n",
    "    else:\n",
    "        cnt-=1\n",
    "print(cnt,len(text))\n",
    "print(mean(ls))"
   ]
  },
  {
   "cell_type": "code",
   "execution_count": 21,
   "metadata": {},
   "outputs": [
    {
     "name": "stdout",
     "output_type": "stream",
     "text": [
      "-0.26785788566466784\n",
      "202\n",
      "0.12155507100832019\n"
     ]
    }
   ],
   "source": [
    "import numpy as np\n",
    "print(mean(ls))\n",
    "print(([i>-0.2699 for i in ls].count(1)))\n",
    "print(np.std(ls))"
   ]
  },
  {
   "cell_type": "code",
   "execution_count": 22,
   "metadata": {
    "scrolled": true
   },
   "outputs": [
    {
     "name": "stdout",
     "output_type": "stream",
     "text": [
      "151\n",
      "-0.18183174471775465 0.2236714200979862\n"
     ]
    }
   ],
   "source": [
    "from statistics import mean\n",
    "bias_vic=[]\n",
    "\n",
    "for i in range(0,len(text)):\n",
    "    scores = [sia.polarity_scores(sentence)[\"compound\"] for sentence in nltk.sent_tokenize(df2.loc[i,'Text']) if 'victim' in sentence.lower() or 'survivor' in sentence.lower()]\n",
    "    if len(scores)!=0:\n",
    "        bias_vic.append(mean(scores))\n",
    "print(len(bias_vic))    \n",
    "print(mean(bias_vic),np.var(bias_vic))"
   ]
  },
  {
   "cell_type": "code",
   "execution_count": 23,
   "metadata": {},
   "outputs": [
    {
     "name": "stdout",
     "output_type": "stream",
     "text": [
      "Reason : 1\n",
      "6\n",
      "-0.44315666666666664 0.06996405405555554\n",
      "Reason : 2\n",
      "4\n",
      "-0.27681666666666666 0.08211762750000001\n",
      "Reason : 3\n",
      "7\n",
      "-0.45708571428571426 0.04201166979591836\n",
      "Reason : 4\n",
      "7\n",
      "-0.32444999999999996 0.07050519357142856\n",
      "Reason : 5\n",
      "8\n",
      "-0.6716624999999999 0.041717576718749996\n",
      "Reason : 6\n",
      "12\n",
      "-0.3784180555555556 0.06302206636381173\n",
      "Reason : 7\n",
      "1\n",
      "-0.52665 0.0\n",
      "Reason : 8\n",
      "17\n",
      "-0.3741892156862745 0.07584852254709727\n"
     ]
    }
   ],
   "source": [
    "from statistics import mean\n",
    "for q in range(1,9,1):\n",
    "    print(\"Reason :\",q)\n",
    "    bias_vic=[]\n",
    "    for i in range(0,len(text)):\n",
    "        if int(df2.loc[i,'Murder_reason'])==q:\n",
    "            scores = [sia.polarity_scores(sentence)[\"compound\"] for sentence in nltk.sent_tokenize(df2.loc[i,'Text']) if 'victim' in sentence.lower() or 'survivor' in sentence.lower()]\n",
    "            if len(scores)!=0:\n",
    "                bias_vic.append(mean(scores))\n",
    "    print(len(bias_vic)) \n",
    "    if len(bias_vic)!=0:\n",
    "        print(mean(bias_vic),np.var(bias_vic))\n",
    "    "
   ]
  },
  {
   "cell_type": "code",
   "execution_count": 24,
   "metadata": {},
   "outputs": [
    {
     "name": "stdout",
     "output_type": "stream",
     "text": [
      "Reason : 1\n",
      "11\n",
      "-0.18689 0.28534109172727273\n",
      "Reason : 2\n",
      "3\n",
      "-0.21546666666666667 0.009645475555555552\n",
      "Reason : 3\n",
      "5\n",
      "-0.392036 0.012622921983999998\n",
      "Reason : 4\n",
      "3\n",
      "-0.006841666666666667 0.014116638472222226\n",
      "Reason : 5\n",
      "2\n",
      "-0.36987499999999995 0.0015073806249999977\n",
      "Reason : 6\n",
      "8\n",
      "-0.2967020833333333 0.10335262003038194\n",
      "Reason : 7\n",
      "28\n",
      "-0.030404349489795913 0.18546717180119301\n",
      "Reason : 8\n",
      "28\n",
      "0.1000657738095238 0.3604616902000957\n",
      "Reason : 9\n",
      "5\n",
      "-0.13205666666666668 0.3266811641777777\n",
      "Reason : 10\n",
      "14\n",
      "-0.03754607142857142 0.21188869683555842\n"
     ]
    }
   ],
   "source": [
    "from statistics import mean\n",
    "for q in range(1,11,1):\n",
    "    print(\"Reason :\",q)\n",
    "    bias_vic=[]\n",
    "    for i in range(0,len(text)):\n",
    "        if str(q) in str(df2.loc[i,'Women_reason']).split(','):\n",
    "            scores = [sia.polarity_scores(sentence)[\"compound\"] for sentence in nltk.sent_tokenize(df2.loc[i,'Text']) if 'victim' in sentence.lower() or 'survivor' in sentence.lower()]\n",
    "            if len(scores)!=0:\n",
    "                bias_vic.append(mean(scores))\n",
    "    print(len(bias_vic)) \n",
    "    if len(bias_vic)!=0:\n",
    "        print(mean(bias_vic),np.var(bias_vic))"
   ]
  },
  {
   "cell_type": "code",
   "execution_count": null,
   "metadata": {},
   "outputs": [],
   "source": []
  },
  {
   "cell_type": "code",
   "execution_count": 25,
   "metadata": {},
   "outputs": [
    {
     "name": "stdout",
     "output_type": "stream",
     "text": [
      "260\n",
      "-0.5092503170024419 0.21923642022461134\n"
     ]
    }
   ],
   "source": [
    "from statistics import mean\n",
    "bias_acc=[]\n",
    "\n",
    "for i in range(0,len(text)):\n",
    "    scores = [sia.polarity_scores(sentence)[\"compound\"] for sentence in nltk.sent_tokenize(df2.loc[i,'Text']) if 'accused' in sentence.lower() or 'murderer' in sentence.lower() or 'assaulted' in sentence.lower() or 'rapist' in sentence.lower() or 'killer' in sentence.lower()]\n",
    "    #print(scores)\n",
    "    if len(scores)!=0:\n",
    "        bias_acc.append(mean(scores))\n",
    "print(len(bias_acc))\n",
    "print(mean(bias_acc),np.std(bias_acc))"
   ]
  },
  {
   "cell_type": "code",
   "execution_count": 26,
   "metadata": {},
   "outputs": [
    {
     "name": "stderr",
     "output_type": "stream",
     "text": [
      "/home/deepank/.local/lib/python3.8/site-packages/seaborn/distributions.py:2557: FutureWarning: `distplot` is a deprecated function and will be removed in a future version. Please adapt your code to use either `displot` (a figure-level function with similar flexibility) or `kdeplot` (an axes-level function for kernel density plots).\n",
      "  warnings.warn(msg, FutureWarning)\n",
      "/home/deepank/.local/lib/python3.8/site-packages/seaborn/distributions.py:2557: FutureWarning: `distplot` is a deprecated function and will be removed in a future version. Please adapt your code to use either `displot` (a figure-level function with similar flexibility) or `kdeplot` (an axes-level function for kernel density plots).\n",
      "  warnings.warn(msg, FutureWarning)\n"
     ]
    },
    {
     "data": {
      "text/plain": [
       "Text(0, 0.5, 'Density of Articles.')"
      ]
     },
     "execution_count": 26,
     "metadata": {},
     "output_type": "execute_result"
    },
    {
     "data": {
      "image/png": "[encoded data removed]",
      "text/plain": [
       "<Figure size 432x288 with 1 Axes>"
      ]
     },
     "metadata": {},
     "output_type": "display_data"
    }
   ],
   "source": [
    "sns.distplot(bias_vic, hist=False, kde=True, \n",
    "             bins=25, color = 'darkgreen', \n",
    "             kde_kws={'shade': True,'linewidth': 2})\n",
    "sns.distplot(bias_acc, hist=False, kde=True, \n",
    "             bins=25, color = 'darkblue', \n",
    "             kde_kws={'shade': True,'linewidth': 2})\n",
    "plt.axvline(x=-0.26785788566466784,ymax=0.95,ymin=0.05,color='red')\n",
    "0.12155507100832019\n",
    "# Add labels\n",
    "plt.xlim(-1, 1)\n",
    "plt.legend([\"Mean Sentiment of Articles\",\"Victim Sentiment\", \"Accused Sentiment\"], loc =\"upper right\")  \n",
    "plt.title('Plot of Frequency vs Sentiment Value')\n",
    "plt.xlabel('Value of Sentiment Analysis')\n",
    "plt.ylabel('Density of Articles.')"
   ]
  },
  {
   "cell_type": "code",
   "execution_count": 27,
   "metadata": {},
   "outputs": [
    {
     "name": "stdout",
     "output_type": "stream",
     "text": [
      "88\n",
      "-0.031168410443722944 0.26297028214980034\n"
     ]
    }
   ],
   "source": [
    "from statistics import mean\n",
    "bias_vic=[]\n",
    "\n",
    "for i in range(0,len(text)):\n",
    "    if str(df2.loc[i,'Women_reason'])!=\"0\": \n",
    "        scores = [sia.polarity_scores(sentence)[\"compound\"] for sentence in nltk.sent_tokenize(df2.loc[i,'Text']) if 'victim' in sentence.lower() or 'survivor' in sentence.lower()]\n",
    "        if len(scores)!=0:\n",
    "            bias_vic.append(mean(scores))\n",
    "print(len(bias_vic))    \n",
    "print(mean(bias_vic),np.var(bias_vic))"
   ]
  },
  {
   "cell_type": "code",
   "execution_count": 28,
   "metadata": {},
   "outputs": [
    {
     "name": "stdout",
     "output_type": "stream",
     "text": [
      "133\n",
      "-0.49777327634562596 0.05249754889120935\n"
     ]
    }
   ],
   "source": [
    "from statistics import mean\n",
    "bias_acc=[]\n",
    "\n",
    "for i in range(0,len(text)):\n",
    "    if str(df2.loc[i,'Women_reason'])!=\"0\": \n",
    "        scores = [sia.polarity_scores(sentence)[\"compound\"] for sentence in nltk.sent_tokenize(df2.loc[i,'Text']) if 'accused' in sentence.lower() or 'murderer' in sentence.lower()]\n",
    "        if len(scores)!=0:\n",
    "            bias_acc.append(mean(scores))\n",
    "print(len(bias_acc))    \n",
    "print(mean(bias_acc),np.var(bias_acc))"
   ]
  },
  {
   "cell_type": "code",
   "execution_count": 29,
   "metadata": {},
   "outputs": [
    {
     "name": "stderr",
     "output_type": "stream",
     "text": [
      "/home/deepank/.local/lib/python3.8/site-packages/seaborn/distributions.py:2557: FutureWarning: `distplot` is a deprecated function and will be removed in a future version. Please adapt your code to use either `displot` (a figure-level function with similar flexibility) or `kdeplot` (an axes-level function for kernel density plots).\n",
      "  warnings.warn(msg, FutureWarning)\n",
      "/home/deepank/.local/lib/python3.8/site-packages/seaborn/distributions.py:2557: FutureWarning: `distplot` is a deprecated function and will be removed in a future version. Please adapt your code to use either `displot` (a figure-level function with similar flexibility) or `kdeplot` (an axes-level function for kernel density plots).\n",
      "  warnings.warn(msg, FutureWarning)\n"
     ]
    },
    {
     "data": {
      "text/plain": [
       "Text(0, 0.5, 'Density of Articles.')"
      ]
     },
     "execution_count": 29,
     "metadata": {},
     "output_type": "execute_result"
    },
    {
     "data": {
      "image/png": "[encoded data removed]",
      "text/plain": [
       "<Figure size 432x288 with 1 Axes>"
      ]
     },
     "metadata": {},
     "output_type": "display_data"
    }
   ],
   "source": [
    "sns.distplot(bias_vic, hist=False, kde=True, \n",
    "             bins=25, color = 'darkgreen', \n",
    "             kde_kws={'shade': True,'linewidth': 2})\n",
    "sns.distplot(bias_acc, hist=False, kde=True, \n",
    "             bins=25, color = 'darkblue', \n",
    "             kde_kws={'shade': True,'linewidth': 2})\n",
    "plt.axvline(x=-0.26785788566466784,ymax=0.95,ymin=0.05,color='red')\n",
    "0.12155507100832019\n",
    "# Add labels\n",
    "plt.xlim(-1, 1)\n",
    "plt.legend([\"Mean Sentiment of Articles\",\"Victim Sentiment\", \"Accused Sentiment\"], loc =\"upper right\")  \n",
    "plt.title('Plot of Frequency vs Sentiment Value for Crimes Against Women')\n",
    "plt.xlabel('Value of Sentiment Analysis')\n",
    "plt.ylabel('Density of Articles.')"
   ]
  },
  {
   "cell_type": "code",
   "execution_count": 30,
   "metadata": {},
   "outputs": [
    {
     "name": "stdout",
     "output_type": "stream",
     "text": [
      "62\n",
      "-0.41998612903225807 0.07497635789791883\n"
     ]
    }
   ],
   "source": [
    "from statistics import mean\n",
    "bias_vic=[]\n",
    "\n",
    "for i in range(0,len(text)):\n",
    "    if int(df2.loc[i,'Murder_reason'])!=0: \n",
    "        scores = [sia.polarity_scores(sentence)[\"compound\"] for sentence in nltk.sent_tokenize(df2.loc[i,'Text']) if 'victim' in sentence.lower() or 'survivor' in sentence.lower()]\n",
    "        if len(scores)!=0:\n",
    "            bias_vic.append(mean(scores))\n",
    "print(len(bias_vic))    \n",
    "print(mean(bias_vic),np.var(bias_vic))"
   ]
  },
  {
   "cell_type": "code",
   "execution_count": 31,
   "metadata": {},
   "outputs": [
    {
     "name": "stdout",
     "output_type": "stream",
     "text": [
      "107\n",
      "-0.4938662016021362 0.05390908927371986\n"
     ]
    }
   ],
   "source": [
    "from statistics import mean\n",
    "bias_acc=[]\n",
    "\n",
    "for i in range(0,len(text)):\n",
    "    if int(df2.loc[i,'Murder_reason'])!=0: \n",
    "        scores = [sia.polarity_scores(sentence)[\"compound\"] for sentence in nltk.sent_tokenize(df2.loc[i,'Text']) if 'accused' in sentence.lower() or 'murderer' in sentence.lower()]\n",
    "        if len(scores)!=0:\n",
    "            bias_acc.append(mean(scores))\n",
    "print(len(bias_acc))    \n",
    "print(mean(bias_acc),np.var(bias_acc))"
   ]
  },
  {
   "cell_type": "code",
   "execution_count": 32,
   "metadata": {},
   "outputs": [
    {
     "name": "stderr",
     "output_type": "stream",
     "text": [
      "/home/deepank/.local/lib/python3.8/site-packages/seaborn/distributions.py:2557: FutureWarning: `distplot` is a deprecated function and will be removed in a future version. Please adapt your code to use either `displot` (a figure-level function with similar flexibility) or `kdeplot` (an axes-level function for kernel density plots).\n",
      "  warnings.warn(msg, FutureWarning)\n",
      "/home/deepank/.local/lib/python3.8/site-packages/seaborn/distributions.py:2557: FutureWarning: `distplot` is a deprecated function and will be removed in a future version. Please adapt your code to use either `displot` (a figure-level function with similar flexibility) or `kdeplot` (an axes-level function for kernel density plots).\n",
      "  warnings.warn(msg, FutureWarning)\n"
     ]
    },
    {
     "data": {
      "text/plain": [
       "Text(0, 0.5, 'Density of Articles.')"
      ]
     },
     "execution_count": 32,
     "metadata": {},
     "output_type": "execute_result"
    },
    {
     "data": {
      "image/png": "[encoded data removed]",
      "text/plain": [
       "<Figure size 432x288 with 1 Axes>"
      ]
     },
     "metadata": {},
     "output_type": "display_data"
    }
   ],
   "source": [
    "sns.distplot(bias_vic, hist=False, kde=True, \n",
    "             bins=25, color = 'darkgreen', \n",
    "             kde_kws={'shade': True,'linewidth': 2})\n",
    "sns.distplot(bias_acc, hist=False, kde=True, \n",
    "             bins=25, color = 'darkblue', \n",
    "             kde_kws={'shade': True,'linewidth': 2})\n",
    "plt.axvline(x=-0.26785788566466784,ymax=0.95,ymin=0.05,color='red')\n",
    "# Add labels\n",
    "plt.xlim(-1, 1)\n",
    "plt.legend([\"Mean Sentiment of Articles\",\"Victim Sentiment\", \"Accused Sentiment\"], loc =\"upper right\")  \n",
    "plt.title('Plot of Frequency vs Sentiment Value for Murder')\n",
    "plt.xlabel('Value of Sentiment Analysis')\n",
    "plt.ylabel('Density of Articles.')"
   ]
  },
  {
   "cell_type": "code",
   "execution_count": 33,
   "metadata": {},
   "outputs": [
    {
     "name": "stdout",
     "output_type": "stream",
     "text": [
      "Reason : 1\n",
      "8\n",
      "-0.5345348214285714 0.029037663844866064\n",
      "Reason : 2\n",
      "12\n",
      "-0.4535902777777778 0.0788302129841821\n",
      "Reason : 3\n",
      "18\n",
      "-0.5750788888888889 0.028678554122222217\n",
      "Reason : 4\n",
      "8\n",
      "-0.4658333333333333 0.02576765944444444\n",
      "Reason : 5\n",
      "14\n",
      "-0.6494916666666667 0.022450736696428577\n",
      "Reason : 6\n",
      "20\n",
      "-0.479338 0.04446709916377778\n",
      "Reason : 7\n",
      "1\n",
      "-0.296 0.0\n",
      "Reason : 8\n",
      "34\n",
      "-0.45338700980392155 0.07210467484146721\n"
     ]
    }
   ],
   "source": [
    "from statistics import mean\n",
    "for q in range(1,9,1):\n",
    "    print(\"Reason :\",q)\n",
    "    bias_acc=[]\n",
    "    for i in range(0,len(text)):\n",
    "        if int(df2.loc[i,'Murder_reason'])==q:\n",
    "            scores = [sia.polarity_scores(sentence)[\"compound\"] for sentence in nltk.sent_tokenize(df2.loc[i,'Text']) if 'accused' in sentence.lower() or 'murderer' in sentence.lower() or 'assaulted' in sentence.lower() or 'rapist' in sentence.lower() or 'killer' in sentence.lower()]\n",
    "            if len(scores)!=0:\n",
    "                bias_acc.append(mean(scores))\n",
    "    print(len(bias_acc)) \n",
    "    if len(bias_acc)!=0:\n",
    "        print(mean(bias_acc),np.var(bias_acc))"
   ]
  },
  {
   "cell_type": "code",
   "execution_count": null,
   "metadata": {},
   "outputs": [],
   "source": []
  },
  {
   "cell_type": "code",
   "execution_count": 34,
   "metadata": {},
   "outputs": [
    {
     "name": "stdout",
     "output_type": "stream",
     "text": [
      "Reason : 1\n",
      "11\n",
      "-0.6347215151515152 0.0350208032754821\n",
      "Reason : 2\n",
      "11\n",
      "-0.5747324242424242 0.03845454069513315\n",
      "Reason : 3\n",
      "13\n",
      "-0.5154203846153846 0.03799547222998027\n",
      "Reason : 4\n",
      "5\n",
      "-0.5462333333333333 0.016958369777777784\n",
      "Reason : 5\n",
      "2\n",
      "-0.17160625 0.12065636441406252\n",
      "Reason : 6\n",
      "12\n",
      "-0.39531647817460314 0.058170394300324675\n",
      "Reason : 7\n",
      "46\n",
      "-0.5170740458937197 0.043171121052759845\n",
      "Reason : 8\n",
      "51\n",
      "-0.515921568627451 0.037983493694816094\n",
      "Reason : 9\n",
      "6\n",
      "-0.4114380952380952 0.02959112561933107\n",
      "Reason : 10\n",
      "23\n",
      "-0.513528381642512 0.04786352987114637\n"
     ]
    }
   ],
   "source": [
    "from statistics import mean\n",
    "for q in range(1,11,1):\n",
    "    print(\"Reason :\",q)\n",
    "    bias_acc=[]\n",
    "    for i in range(0,len(text)):\n",
    "        if str(q) in str(df2.loc[i,'Women_reason']).split(','):\n",
    "            scores = [sia.polarity_scores(sentence)[\"compound\"] for sentence in nltk.sent_tokenize(df2.loc[i,'Text']) if 'accused' in sentence.lower() or 'murderer' in sentence.lower() or 'assaulted' in sentence.lower() or 'rapist' in sentence.lower() or 'killer' in sentence.lower()]\n",
    "            if len(scores)!=0:\n",
    "                bias_acc.append(mean(scores))\n",
    "    print(len(bias_acc)) \n",
    "    if len(bias_acc)!=0:\n",
    "        print(mean(bias_acc),np.var(bias_acc))"
   ]
  },
  {
   "cell_type": "code",
   "execution_count": 35,
   "metadata": {},
   "outputs": [],
   "source": [
    "from nltk.sentiment import SentimentIntensityAnalyzer\n",
    "sia = SentimentIntensityAnalyzer()\n",
    "def word_sent(s):\n",
    "    global df2\n",
    "    ls=[]\n",
    "    for i in range(0,len(text)):\n",
    "        for j in s:\n",
    "            if j in df2.loc[i,'Text'].lower():\n",
    "                #print(df2.loc[i,'Text'].lower())\n",
    "                scores = [sia.polarity_scores(sentence)[\"compound\"] for sentence in nltk.sent_tokenize(df2.loc[i,'Text'])]\n",
    "                m=mean(scores)\n",
    "                ls.append(m)\n",
    "                break\n",
    "    print(\"Length:-\",len(ls))\n",
    "    print(\"Mean:-\",mean(ls),np.std(ls))\n",
    "    print(ls)\n",
    "    bias=[]\n",
    "    for i in range(0,len(text)):\n",
    "        scores=[]\n",
    "        for sentence in nltk.sent_tokenize(df2.loc[i,'Text']):\n",
    "            for j in s:\n",
    "                if j in sentence.lower():\n",
    "                    #print(sentence)\n",
    "                    scores.append(sia.polarity_scores(sentence)[\"compound\"])\n",
    "                    break\n",
    "        if len(scores)!=0:\n",
    "            bias.append(mean(scores))\n",
    "    print(bias)\n",
    "    print(\"Mean Bias sentence based:-\",mean(bias),np.std(bias))\n",
    "    return ls,bias"
   ]
  },
  {
   "cell_type": "code",
   "execution_count": 36,
   "metadata": {},
   "outputs": [
    {
     "name": "stdout",
     "output_type": "stream",
     "text": [
      "Length:- 13\n",
      "Mean:- -0.21827146699190042 0.0943888683682849\n",
      "[-0.29018421052631577, -0.18795294117647057, -0.07274545454545454, -0.2714, -0.3777, -0.3462909090909091, -0.283925, -0.15788333333333332, -0.07536666666666667, -0.22985555555555554, -0.1444, -0.1318, -0.268025]\n",
      "[0.0, -0.5267, -0.0258, -0.3825, 0.2023, -0.418, 0.1027, -0.5267, -0.7184, -0.296, -0.4221, -0.657, -0.4588]\n",
      "Mean Bias sentence based:- -0.31746153846153846 0.28309551130441835\n"
     ]
    }
   ],
   "source": [
    "l_dal,b_dal=word_sent(['dalit','sc/st'])"
   ]
  },
  {
   "cell_type": "code",
   "execution_count": 37,
   "metadata": {},
   "outputs": [
    {
     "name": "stdout",
     "output_type": "stream",
     "text": [
      "Length:- 5\n",
      "Mean:- -0.24764500695762176 0.0719338108532501\n",
      "[-0.3286235294117647, -0.23686666666666667, -0.17368, -0.16670000000000001, -0.3323548387096774]\n",
      "[-0.6808, -0.926, 0.6808, 0.0, -0.5768]\n",
      "Mean Bias sentence based:- -0.30056 0.5771429549080539\n"
     ]
    }
   ],
   "source": [
    "l_mul,b_mul=word_sent(['islam','muslim','zihaad','zihad'])"
   ]
  },
  {
   "cell_type": "code",
   "execution_count": 38,
   "metadata": {},
   "outputs": [
    {
     "name": "stdout",
     "output_type": "stream",
     "text": [
      "Length:- 4\n",
      "Mean:- -0.28075932447928414 0.061376868778205675\n",
      "[-0.3132923076923077, -0.17620833333333333, -0.30118181818181816, -0.3323548387096774]\n",
      "[-0.7405, -0.7482, 0.0, 0.03959999999999999]\n",
      "Mean Bias sentence based:- -0.362275 0.38234112631915496\n"
     ]
    }
   ],
   "source": [
    "l_hin,b_hin=word_sent(['hindu'])"
   ]
  },
  {
   "cell_type": "code",
   "execution_count": 39,
   "metadata": {},
   "outputs": [
    {
     "name": "stdout",
     "output_type": "stream",
     "text": [
      "Length:- 5\n",
      "Mean:- -0.19975238888888888 0.07852097534259929\n",
      "[-0.060177777777777774, -0.19832666666666665, -0.19096666666666667, -0.2696708333333333, -0.27962]\n",
      "[-0.1027, -0.5274333333333333, -0.5246, 0.0258, -0.55545]\n",
      "Mean Bias sentence based:- -0.33687666666666666 0.24726474511700566\n"
     ]
    }
   ],
   "source": [
    "l_con,b_con=word_sent(['congress'])"
   ]
  },
  {
   "cell_type": "code",
   "execution_count": 40,
   "metadata": {},
   "outputs": [
    {
     "name": "stdout",
     "output_type": "stream",
     "text": [
      "Length:- 7\n",
      "Mean:- -0.25827146708683474 0.10202461043871373\n",
      "[-0.06945833333333334, -0.41640625, -0.2633, -0.29786999999999997, -0.23668235294117648, -0.33321666666666666, -0.19096666666666667]\n",
      "[-0.1806, -0.60605, 0.128, -0.27505999999999997, -0.15594999999999998, 0.3818, -0.3818]\n",
      "Mean Bias sentence based:- -0.15566571428571427 0.30194492079834423\n"
     ]
    }
   ],
   "source": [
    "l_bjp,b_bjp=word_sent(['bjp'])"
   ]
  },
  {
   "cell_type": "code",
   "execution_count": 41,
   "metadata": {},
   "outputs": [
    {
     "name": "stdout",
     "output_type": "stream",
     "text": [
      "Length:- 4\n",
      "Mean:- -0.2574665131578947 0.11738165219488315\n",
      "[-0.06945833333333334, -0.31742105263157894, -0.3846333333333333, -0.2583533333333333]\n",
      "[0.4019, -0.29913333333333336, -0.3818, 0.4767]\n",
      "Mean Bias sentence based:- 0.049416666666666664 0.3918706621237846\n"
     ]
    }
   ],
   "source": [
    "l_bsp,b_bsp=word_sent(['bsp','bahujan'])"
   ]
  },
  {
   "cell_type": "code",
   "execution_count": 42,
   "metadata": {},
   "outputs": [
    {
     "name": "stdout",
     "output_type": "stream",
     "text": [
      "Length:- 2\n",
      "Mean:- -0.3217532738095238 0.052082440476190484\n",
      "[-0.37383571428571427, -0.2696708333333333]\n",
      "[0.1613, 0.0258]\n",
      "Mean Bias sentence based:- 0.09355 0.06774999999999999\n"
     ]
    }
   ],
   "source": [
    "l_sam,b_sam=word_sent(['samajwadi'])"
   ]
  },
  {
   "cell_type": "code",
   "execution_count": 43,
   "metadata": {},
   "outputs": [
    {
     "name": "stdout",
     "output_type": "stream",
     "text": [
      "Length:- 331\n",
      "Mean:- -0.2602757248806842 0.1180143381833529\n",
      "[-0.3139571428571429, -0.10071290322580645, -0.2908733333333333, -0.31464285714285717, -0.29018421052631577, -0.22986470588235294, -0.08157857142857144, -0.2550181818181818, -0.15777083333333333, -0.3133923076923077, -0.24532857142857142, -0.183745, -0.3286235294117647, -0.3476266666666667, -0.2556764705882353, -0.3769125, -0.42335999999999996, -0.14687, -0.310056, -0.020075000000000006, -0.22796296296296298, -0.26513333333333333, -0.20574615384615383, -0.3371692307692308, -0.20586470588235295, -0.19059333333333334, -0.1754181818181818, -0.21030666666666667, -0.11406249999999998, -0.29804444444444445, -0.5766, -0.18266923076923075, -0.10613636363636364, -0.3526111111111111, -0.18395, -0.24236923076923078, -0.22991111111111112, -0.08504999999999999, -0.239375, -0.17566315789473685, -0.35568235294117645, -0.3538818181818182, -0.53038, -0.26112, -0.21203076923076922, -0.30202666666666667, -0.31742105263157894, -0.5166333333333333, -0.22082000000000002, -0.18710526315789472, -0.15818235294117647, -0.3686391304347826, -0.18795294117647057, -0.33087647058823527, -0.08151, -0.034164, -0.30223529411764705, -0.3189090909090909, -0.41640625, -0.24131999999999998, -0.27989375, -0.289275, -0.21418571428571428, -0.329756, -0.3375, -0.32161666666666666, -0.17264285714285713, -0.2633, -0.3059545454545454, -0.2710166666666667, -0.10304444444444444, -0.3601, -0.36064285714285715, -0.2734666666666667, -0.30013999999999996, -0.14861818181818182, -0.11937777777777778, -0.39348571428571427, -0.2918857142857143, -0.49145, -0.33696363636363635, -0.42213, -0.4091625, -0.2431970588235294, -0.26998666666666665, -0.3466142857142857, -0.3481916666666667, -0.14449433962264152, -0.294, -0.32946000000000003, -0.32357857142857144, -0.15395882352941176, -0.30036153846153846, -0.29786999999999997, -0.058363636363636354, -0.10345625, -0.22475555555555554, -0.11465, -0.3283375, -0.23295, -0.08075333333333333, -0.2198235294117647, -0.20783333333333334, -0.04684615384615384, -0.012939999999999995, -0.03864444444444445, 0.020592857142857142, -0.23701333333333333, -0.12861333333333333, -0.4235, -0.07274545454545454, -0.12873333333333334, -0.2927222222222222, -0.08722499999999998, -0.3132923076923077, -0.17620833333333333, -0.28361333333333333, -0.15367692307692307, -0.6000384615384615, -0.1422142857142857, -0.31083809523809525, -0.41859999999999997, -0.07715, -0.2566, -0.48265, -0.41557499999999997, -0.16123076923076923, -0.44507142857142856, -0.31475454545454545, -0.3958888888888889, -0.2624444444444444, -0.24638, -0.25898333333333334, -0.1012875, -0.2714, -0.25274166666666664, -0.26544615384615383, -0.23507142857142857, -0.287844, -0.2037, -0.3971928571428571, -0.5463, -0.3097909090909091, -0.26907000000000003, -0.135275, -0.28712666666666664, -0.2555357142857143, -0.31959444444444446, -0.275025, -0.31105, -0.30977777777777776, -0.3706, -0.17525555555555555, -0.20077000000000003, -0.32476363636363637, -0.34165, -0.5689, -0.060177777777777774, -0.3517, -0.042575, -0.3905666666666667, -0.2858764705882353, -0.18274, -0.23668235294117648, -0.31518, -0.30002142857142855, -0.2440909090909091, -0.16917333333333334, -0.291525, -0.358125, -0.2852875, -0.19582142857142856, -0.39758333333333334, -0.24591428571428572, -0.5034142857142857, -0.20299166666666665, -0.24853333333333333, -0.14203333333333334, -0.35546923076923076, -0.5439473684210526, -0.22696666666666668, -0.3462909090909091, -0.32225714285714285, -0.4008857142857143, -0.33321666666666666, -0.2586125, -0.286825, -0.351325, -0.22198333333333334, -0.283925, -0.00200909090909091, -0.15788333333333332, -0.12723333333333334, -0.1953, -0.39061999999999997, -0.44713, -0.5329333333333334, -0.1635375, -0.27999, -0.16543846153846153, -0.2478111111111111, -0.15367692307692307, -0.26548571428571427, -0.35561875, -0.2673428571428571, -0.1934235294117647, -0.3634, -0.07152272727272727, -0.2693590909090909, -0.18564615384615382, -0.27214, -0.34435, -0.07293846153846154, -0.31475454545454545, -0.16407727272727274, -0.09312, -0.413375, -0.0719, -0.24952999999999997, -0.3508, -0.20133333333333334, -0.191575, -0.2519181818181818, -0.3776454545454545, -0.4088818181818182, -0.049635, -0.11988000000000001, -0.23627692307692308, 0.011868750000000004, -0.31429090909090907, -0.2993272727272727, -0.2872529411764706, -0.292821052631579, -0.2576, -0.5745666666666667, -0.3367833333333333, -0.07536666666666667, -0.35840666666666665, -0.41795, -0.28842727272727275, -0.1836125, -0.22985555555555554, -0.17006296296296297, -0.23823846153846154, -0.41025, -0.2477, -0.26343333333333335, -0.22687, -0.29649444444444445, -0.34700000000000003, -0.42745, -0.23604499999999998, -0.26884545454545455, -0.1977736842105263, -0.2671363636363636, -0.5266090909090909, -0.4065, -0.3663368421052632, -0.25489, -0.48403, -0.34358181818181815, -0.40541, -0.18042, -0.14795624999999998, -0.3177235294117647, -0.4013083333333333, -0.1759, -0.5310666666666667, -0.36192, -0.22976249999999998, -0.4067636363636364, -0.13780714285714285, -0.2696708333333333, -0.19504, -0.18359999999999999, -0.1444, -0.3785642857142857, -0.19843846153846154, -0.3608941176470588, -0.3009588235294118, -0.0791388888888889, -0.31840833333333335, -0.018862500000000004, -0.3114, -0.42362222222222223, -0.23879166666666665, -0.2580181818181818, -0.05697333333333333, -0.08899285714285714, -0.14521875, -0.3138444444444444, -0.17461666666666667, -0.1318, -0.353425, -0.23452499999999998, -0.30118181818181816, -0.23686666666666667, -0.17368, 0.013442857142857137, -0.16670000000000001, -0.206175, -0.20261666666666667, -0.33951176470588235, -0.0967391304347826, -0.2809095238095238, -0.33525, -0.4258875, -0.1788857142857143, -0.08951428571428571, -0.29118636363636363, -0.13534, -0.34715, -0.21001666666666666, -0.2548333333333333, -0.3323548387096774, -0.10658000000000001, -0.123825, -0.035025, -0.1676923076923077, -0.2289111111111111, -0.31137333333333334, -0.268025, -0.1445, -0.38692727272727273, -0.1265, -0.4389, -0.2741636363636364, -0.44495454545454544, -0.24392000000000003, -0.4249428571428571, -0.18836]\n",
      "[-0.48348888888888886, 0.0, -0.22704999999999997, -0.3472, 0.0, 0.0, -0.476075, -0.20673333333333335, -0.059199999999999996, -0.36028, -0.17811666666666667, -0.2147625, -0.3526444444444444, -0.5945714285714285, -0.6398333333333334, -0.45321666666666666, -0.39557499999999995, -0.07729999999999998, -0.2562, -0.04742857142857143, -0.3438727272727273, -0.3511333333333333, -0.3446333333333333, -0.38267142857142855, -0.058325000000000016, -0.4767, -0.3548, 0.0, -0.21075, -0.407125, -0.795625, -0.43402857142857143, -0.09173333333333335, -0.23835, -0.2837, -0.15968333333333334, -0.3933, -0.05357499999999999, -0.25264, -0.08413333333333334, -0.3468333333333333, -0.544975, -0.7371666666666666, 0.0, -0.4112, -0.32507142857142857, -0.42425, -0.6073333333333333, -0.0455, -0.22081666666666666, 0.0, -0.2553, 0.0, -0.836, -0.14698333333333333, 0.0, -0.148, -0.6774333333333333, -0.48912, -0.4588, -0.5859, -0.39239999999999997, -0.6275, -0.270275, -0.1101, -0.4116181818181818, -0.79045, -0.13396666666666665, -0.2458, -0.30346666666666666, -0.2732, -0.44094999999999995, -0.5855, -0.34600000000000003, -0.4477, -0.21355, 0.0, -0.588925, -0.8073, -0.555, -0.08333333333333333, -0.5921666666666666, -0.5493142857142858, -0.4205153846153846, -0.2777142857142857, -0.48025, -0.33476666666666666, -0.53012, -0.492225, -0.3633, -0.29738749999999997, -0.2272875, -0.2807272727272727, -0.369, -0.296, -0.25515, -0.15037499999999998, 0.0, -0.669625, -0.35256666666666664, -0.3672, -0.26533636363636365, -0.388625, -0.17445, 0.24975, 0.24695, -0.06880000000000001, -0.274225, -0.09129999999999998, 0.0, -0.16368181818181818, -0.27958, -0.52654, 0.4767, -0.5876333333333333, -0.32956, -0.32325, -0.6378999999999999, -0.62385, -0.1327, -0.4772333333333333, -0.61504, -0.358875, -0.12726666666666667, -0.696425, -0.5381, 0.07689999999999998, -0.4019, -0.78095, -0.40686, -0.42955, -0.47502, -0.21989999999999998, -0.13505, -0.765, -0.3418, -0.39546666666666663, -0.09844999999999998, -0.34458333333333335, -0.16124999999999998, -0.45690000000000003, -0.56445, -0.38584285714285715, -0.3960777777777778, -0.17175, -0.1909, -0.24833333333333332, -0.21684, -0.6808, -0.11315, -0.501325, -0.0516, -0.3177333333333333, -0.04977500000000001, -0.3868166666666667, -0.512475, -0.6486, 0.15438000000000002, -0.8401, 0.45485, -0.75105, -0.40621666666666667, -0.2847222222222222, -0.42862, -0.46645000000000003, -0.24813333333333334, -0.301, -0.386125, -0.4417, -0.4734, 0.0, -0.4971, -0.666925, 0.0, -0.4756333333333333, -0.6278, -0.3784, -0.57735, -0.5709714285714286, -0.62925, -0.2672, -0.4596, -0.5410666666666667, 0.0, -0.55255, -0.46797500000000003, -0.3551, -0.5104, -0.4112142857142857, -0.1979142857142857, -0.004379999999999998, -0.25165, -0.31805, -0.13396666666666665, -0.6705, -0.42596, -0.491675, -0.24080000000000001, 0.0, 0.24695, -0.31796, -0.6378999999999999, -0.418, 0.0, -0.5529, -0.2267846153846154, -0.558925, -0.13928, -0.2855833333333333, -0.09009999999999996, 0.0, 0.5859, -0.10066666666666667, -0.78095, 0.05857999999999999, -0.09259999999999997, -0.7253000000000001, -0.7184, -0.17329999999999998, -0.5359666666666667, -0.151875, 0.10880000000000004, -0.438425, -0.3818, -0.554025, -0.10205, 0.0, -0.4767, 0.06668333333333334, -0.8402, -0.5574, -0.5574, 0.0, -0.7717, -0.75735, -0.4328, -0.7184, -0.5277000000000001, -0.37612, -0.57856, 0.03107499999999999, -0.21052857142857143, 0.0, -0.37585, -0.37094, 0.1027, -0.25398, -0.26539999999999997, 0.5106, -0.40313333333333334, -0.30306666666666665, -0.8934, -0.65865, -0.26604, 0.3056, -0.17, -0.43532499999999996, -0.5853875, -0.43245, -0.54438, -0.43335999999999997, -0.2997, -0.2786666666666667, -0.164425, -0.3158166666666667, -0.60536, -0.17014285714285715, -0.49484285714285714, -0.9413, 0.08310000000000001, -0.4767, 0.11210000000000002, -0.7906, 0.0, -0.33436, 0.0, -0.48869999999999997, -0.8625, -0.36219999999999997, -0.3592, 0.21619999999999998, -0.43735, 0.1523, -0.36335, -0.7160666666666666, -0.44516666666666665, -0.39383999999999997, 0.02054, -0.39084, -0.3373555555555556, -0.2263, -0.03846666666666667, -0.2806666666666667, -0.5843499999999999, -0.5114, -0.0257, -0.35915, -0.07513333333333334, -0.0747, 0.0129, -0.23514285714285715, -0.49339999999999995, -0.43843333333333334, -0.13512, -0.5115166666666666, -0.6705, -0.54, -0.08666, -0.4688333333333333, -0.03036666666666667, -0.1935142857142857, -0.4095333333333333, -0.030999999999999986, -0.5134, 0.0, 0.015499999999999995, -0.03623333333333336, -0.1648, -0.32664, -0.17516666666666666, -0.187, -0.9143, -0.46295, -0.45016666666666666, -0.6184333333333333, -0.5045499999999999, -0.3736, -0.31892499999999996, -0.19362500000000002, -0.58158, -0.2873]\n",
      "Mean Bias sentence based:- -0.32328497846396637 0.2571999150115224\n"
     ]
    }
   ],
   "source": [
    "l_girl,b_girl=word_sent(['girl','woman','female','women','wife','daughter','sister','mother',])"
   ]
  },
  {
   "cell_type": "code",
   "execution_count": 44,
   "metadata": {},
   "outputs": [
    {
     "name": "stdout",
     "output_type": "stream",
     "text": [
      "Length:- 389\n",
      "Mean:- -0.266132210801537 0.12124127159638337\n",
      "[-0.3139571428571429, -0.10071290322580645, -0.2908733333333333, -0.31464285714285717, -0.29018421052631577, -0.22986470588235294, -0.08157857142857144, -0.47988571428571425, -0.2550181818181818, -0.15777083333333333, -0.3133923076923077, -0.24532857142857142, -0.183745, -0.3286235294117647, -0.3476266666666667, -0.1817111111111111, -0.2556764705882353, -0.3769125, -0.32505833333333334, -0.42335999999999996, -0.14687, -0.310056, -0.020075000000000006, -0.48536999999999997, -0.22796296296296298, -0.26513333333333333, -0.20574615384615383, -0.3371692307692308, -0.20586470588235295, -0.19059333333333334, -0.1754181818181818, -0.3741222222222222, -0.21030666666666667, -0.11406249999999998, -0.29804444444444445, -0.5766, -0.18266923076923075, -0.10613636363636364, -0.3526111111111111, -0.18395, -0.24236923076923078, -0.22991111111111112, -0.08504999999999999, -0.239375, -0.17566315789473685, -0.35568235294117645, -0.5317933333333333, -0.3538818181818182, -0.06945833333333334, -0.53038, -0.12538749999999999, -0.26112, -0.21203076923076922, -0.30202666666666667, -0.31742105263157894, -0.5166333333333333, -0.05988461538461538, -0.22082000000000002, -0.30124375, -0.18710526315789472, -0.15818235294117647, -0.3686391304347826, -0.18795294117647057, -0.33087647058823527, -0.08151, -0.3846333333333333, -0.034164, -0.30223529411764705, -0.3189090909090909, -0.41640625, -0.24131999999999998, -0.27989375, -0.289275, -0.21418571428571428, -0.329756, -0.3375, -0.32161666666666666, -0.37383571428571427, -0.17264285714285713, -0.3584076923076923, -0.2633, -0.3059545454545454, -0.38150625, -0.2710166666666667, -0.10304444444444444, -0.3601, -0.2583533333333333, -0.36064285714285715, -0.2734666666666667, -0.30013999999999996, -0.30879999999999996, -0.14861818181818182, -0.11937777777777778, -0.1285, -0.39348571428571427, -0.2918857142857143, -0.18185652173913044, -0.49145, -0.33696363636363635, -0.42213, -0.4091625, -0.2431970588235294, -0.26998666666666665, -0.3466142857142857, -0.3481916666666667, -0.14449433962264152, -0.294, -0.32946000000000003, -0.32357857142857144, -0.15395882352941176, -0.30036153846153846, -0.29786999999999997, -0.058363636363636354, -0.10345625, -0.4471, -0.22475555555555554, -0.11465, -0.3283375, -0.12122000000000001, -0.12432499999999999, -0.23295, -0.08075333333333333, -0.2198235294117647, -0.20783333333333334, -0.04684615384615384, -0.3452235294117647, -0.49288333333333334, -0.012939999999999995, -0.03864444444444445, 0.020592857142857142, -0.23701333333333333, -0.12861333333333333, -0.34784, -0.4235, -0.19396190476190475, -0.07274545454545454, -0.12873333333333334, -0.2927222222222222, -0.08722499999999998, -0.3132923076923077, -0.17620833333333333, -0.28361333333333333, -0.2242470588235294, -0.3316133333333333, -0.15367692307692307, -0.6000384615384615, -0.1422142857142857, -0.31083809523809525, -0.25344285714285714, -0.41859999999999997, -0.07715, -0.2566, -0.48265, -0.41557499999999997, -0.16123076923076923, -0.27061666666666667, -0.44507142857142856, -0.31475454545454545, -0.3958888888888889, -0.2624444444444444, -0.24638, -0.25898333333333334, -0.331875, -0.1012875, -0.2714, -0.25274166666666664, -0.19784999999999997, -0.26544615384615383, -0.23507142857142857, -0.14762727272727272, -0.287844, -0.2037, -0.5463, -0.07428, -0.3097909090909091, -0.5688333333333333, -0.26907000000000003, -0.135275, -0.28712666666666664, -0.2555357142857143, -0.31959444444444446, -0.31105, -0.30977777777777776, -0.17525555555555555, -0.20077000000000003, -0.32476363636363637, -0.34165, -0.5689, -0.060177777777777774, -0.3517, -0.042575, -0.3905666666666667, -0.2858764705882353, -0.18274, -0.23668235294117648, -0.31518, -0.30002142857142855, -0.2440909090909091, -0.16917333333333334, -0.31031764705882353, -0.291525, -0.358125, -0.2852875, -0.38565, -0.35849166666666665, -0.19832666666666665, -0.19582142857142856, -0.39758333333333334, -0.5034142857142857, -0.20299166666666665, -0.5183428571428571, -0.29451428571428573, -0.14203333333333334, -0.35546923076923076, -0.5439473684210526, -0.3777, -0.22696666666666668, -0.4003583333333333, -0.3462909090909091, -0.32225714285714285, -0.33321666666666666, -0.2586125, -0.286825, -0.351325, -0.22198333333333334, -0.283925, -0.00200909090909091, -0.04594166666666666, -0.15788333333333332, -0.12723333333333334, -0.1953, -0.39061999999999997, -0.44713, -0.4252666666666666, -0.3316133333333333, -0.1635375, -0.2979090909090909, -0.27999, -0.16543846153846153, -0.2478111111111111, -0.210025, -0.15367692307692307, -0.42746666666666666, -0.26548571428571427, -0.35561875, -0.2673428571428571, -0.1934235294117647, -0.3634, -0.07152272727272727, -0.2693590909090909, -0.18564615384615382, -0.20484444444444444, -0.27214, -0.34435, -0.07293846153846154, -0.31475454545454545, -0.16407727272727274, -0.09312, -0.413375, -0.0719, -0.24952999999999997, -0.3437764705882353, -0.3508, -0.20133333333333334, -0.191575, -0.2519181818181818, -0.3776454545454545, -0.4088818181818182, -0.049635, -0.09251428571428572, -0.23627692307692308, 0.011868750000000004, -0.31429090909090907, -0.2993272727272727, -0.2872529411764706, -0.292821052631579, -0.2576, -0.53688, -0.5745666666666667, -0.3367833333333333, -0.07536666666666667, -0.35840666666666665, -0.41795, -0.28842727272727275, -0.1836125, -0.22985555555555554, -0.17006296296296297, -0.23823846153846154, -0.41025, -0.2477, -0.24056666666666668, -0.26343333333333335, -0.22687, -0.29649444444444445, -0.19096666666666667, -0.34700000000000003, -0.42745, -0.23604499999999998, -0.26884545454545455, -0.1977736842105263, -0.3971727272727273, -0.2671363636363636, -0.33255454545454544, -0.5266090909090909, -0.4065, -0.4335866666666667, -0.3663368421052632, -0.25489, -0.48403, -0.05009999999999999, -0.34358181818181815, -0.40541, -0.18042, -0.14795624999999998, -0.3177235294117647, -0.4013083333333333, -0.1759, -0.5310666666666667, -0.36192, -0.22976249999999998, -0.4067636363636364, -0.13780714285714285, -0.2696708333333333, -0.19504, -0.18359999999999999, -0.1444, -0.3785642857142857, -0.19843846153846154, -0.3608941176470588, -0.3009588235294118, -0.0791388888888889, -0.3109, -0.31840833333333335, -0.018862500000000004, -0.3114, -0.42362222222222223, -0.40641, -0.23879166666666665, -0.2580181818181818, -0.05697333333333333, -0.41871176470588234, -0.08899285714285714, -0.14521875, -0.3138444444444444, -0.17461666666666667, -0.1318, -0.353425, -0.23452499999999998, -0.30118181818181816, -0.23686666666666667, -0.17368, -0.27962, 0.013442857142857137, -0.16670000000000001, -0.206175, -0.215585, -0.20261666666666667, -0.5119333333333334, -0.33951176470588235, -0.0967391304347826, -0.24877894736842104, -0.2809095238095238, -0.33525, -0.4258875, -0.1788857142857143, -0.08951428571428571, -0.29118636363636363, -0.13534, -0.34715, -0.21001666666666666, -0.2548333333333333, -0.3323548387096774, -0.10658000000000001, -0.123825, -0.035025, -0.1676923076923077, -0.2289111111111111, -0.31137333333333334, -0.268025, -0.1445, -0.38692727272727273, -0.1265, -0.4389, -0.2741636363636364, -0.44495454545454544, -0.24392000000000003, -0.4249428571428571, -0.18836, -0.3855571428571428]\n",
      "[-0.6082428571428571, -0.24263, -0.3584, -0.2572, -0.31575, -0.12005555555555555, -0.26265714285714287, -0.34895, -0.420675, -0.19787500000000002, -0.239275, -0.1589, -0.5045, -0.5023, -0.4074333333333333, -0.3243, -0.3376272727272727, -0.41972857142857145, -0.37193333333333334, -0.48068571428571427, -0.031355555555555546, -0.4359166666666667, -0.07427, -0.5809666666666666, -0.3688375, -0.472925, -0.22929999999999998, -0.28897142857142855, -0.17065, -0.16615333333333335, -0.46003333333333335, -0.5479499999999999, -0.2678333333333333, -0.31606666666666666, -0.47728000000000004, -0.502375, -0.4185833333333333, -0.17190000000000003, -0.4039333333333333, -0.32017142857142855, -0.3623, -0.47473333333333334, -0.042859999999999995, -0.36088888888888887, -0.18076666666666666, -0.2723375, -0.7866500000000001, -0.4446857142857143, -0.24080000000000001, -0.7371666666666666, -0.15766666666666665, -0.3918, -0.3234666666666667, -0.4466, -0.29473636363636363, -0.69785, -0.4091, -0.2492, -0.36974, -0.3240111111111111, -0.765, -0.20693333333333333, -0.5085999999999999, -0.4840714285714286, -0.12598571428571428, -0.45774, 0.0005545454545454527, -0.439875, -0.4722142857142857, -0.498425, -0.3057142857142857, -0.3647375, -0.31973999999999997, -0.2561, -0.15293333333333334, -0.308125, -0.20315, -0.34485, -0.5269666666666667, -0.27253333333333335, -0.3197090909090909, -0.2927333333333333, -0.39680000000000004, -0.5983333333333333, -0.15776, -0.5859, -0.3233, -0.4353375, -0.5859, -0.29292, -0.31454, -0.54025, -0.24, -0.28265, -0.53034, -0.32842000000000005, -0.26914166666666667, -0.57125, -0.3236, -0.5921666666666666, -0.5255666666666666, -0.3915181818181818, -0.41874999999999996, -0.48526, -0.48083333333333333, -0.25508823529411767, -0.6492, -0.3633, -0.47229999999999994, -0.20816666666666667, -0.7117333333333333, -0.29649230769230767, 0.23835, -0.2194333333333333, -0.5251625, -0.24668333333333334, -0.12972, -0.41581999999999997, -0.317875, -0.18434285714285714, -0.27954, -0.0972, -0.5367999999999999, -0.2694285714285714, -0.17445, -0.43375, -0.8176, -0.012099999999999991, -0.1551, -0.025800000000000003, -0.23728, -0.323325, -0.495975, -0.4846666666666667, -0.34067499999999995, 0.1508, -0.359525, -0.4095111111111111, -0.16611666666666666, -0.55988, -0.493175, -0.43753333333333333, -0.30722, -0.41477777777777775, 0.1389, -0.6295333333333333, -0.20524285714285714, -0.4195, -0.2970333333333333, -0.58115, -0.10477500000000001, -0.3752333333333333, -0.6802666666666667, -0.80715, -0.1097, -0.44256666666666666, -0.5801499999999999, -0.37875, -0.407275, -0.3612, -0.47502, -0.342325, -0.294975, -0.08465, -0.485325, -0.5690666666666666, -0.36282, -0.6597, -0.3158666666666667, -0.06008333333333333, -0.4076461538461538, -0.08274999999999996, -0.42723333333333335, 0.0, -0.3376125, -0.49429999999999996, -0.6589333333333334, -0.3825, -0.34, 0.028399999999999998, -0.13276666666666664, -0.11315, -0.1643, -0.32516666666666666, -0.22195, -0.5574, -0.5131, -0.6486, -0.022071428571428568, -0.7008, 0.11649999999999999, -0.4487333333333333, -0.05733333333333335, -0.2163625, -0.25443333333333334, -0.46645000000000003, -0.27518, -0.597975, -0.37082, -0.4767, -0.3765, -0.238975, -0.2524375, -0.53745, -0.4053857142857143, -0.3026333333333333, 0.064, -0.75335, -0.6486, -0.4691666666666667, -0.9531, -0.5207499999999999, -0.5495333333333333, -0.47268571428571426, -0.58335, -0.4059857142857143, -0.2047, -0.70695, -0.3901, -0.22455, -0.23932, -0.31245, -0.35076666666666667, -0.3767625, -0.4112142857142857, -0.2309, 0.6369, -0.13481666666666667, -0.25165, -0.31805, -0.34272, -0.57744, -0.48857142857142855, -0.327525, -0.41477777777777775, -0.14448, -0.69045, -0.27355, -0.357275, -0.34801818181818184, 0.0, 0.1389, -0.5426875, -0.2786666666666667, -0.522375, -0.3257833333333333, -0.325825, -0.6948333333333333, -0.14035, -0.43646999999999997, 0.10730000000000003, -0.217475, -0.891, -0.32363333333333333, -0.06137777777777778, -0.37875, -0.042666666666666665, -0.14078181818181817, -0.6741666666666667, -0.3612, -0.006199999999999983, -0.2401, -0.48468, -0.21281111111111112, -0.6705, -0.2328111111111111, -0.3643666666666666, -0.3467, -0.22895, -0.06977499999999999, -0.2547285714285714, 0.021442857142857152, -0.8402, -0.27086666666666664, -0.30355714285714286, -0.439, -0.58005, -0.43856666666666666, -0.75735, -0.30968, 0.7003, -0.31318333333333337, -0.17, -0.57856, -0.3650833333333333, -0.33977142857142856, -0.18891666666666668, -0.37585, -0.4427833333333333, -0.09615000000000001, -0.17556666666666665, -0.26845, -0.13957999999999998, -0.19483999999999999, -0.34973333333333334, -0.5119, -0.4546, -0.34883333333333333, -0.49616666666666664, -0.33255, -0.4859, -0.4656, -0.35903999999999997, -0.47402, -0.38877999999999996, -0.5433, -0.411025, -0.38627999999999996, -0.6578818181818181, -0.03326666666666666, -0.5142666666666666, -0.281525, -0.418, -0.11814999999999999, -0.3207, -0.44388, -0.23044285714285714, -0.5310666666666667, -0.508425, -0.2016, -0.410275, 0.11210000000000002, -0.256, -0.3770888888888889, -0.28388, -0.11964999999999999, -0.2814, -0.07328, -0.148, -0.16133333333333336, -0.009300000000000003, 0.4767, -0.3021, -0.4767, -0.402475, -0.14313333333333333, -0.48896666666666666, -0.26614, -0.3282, -0.116725, -0.62176, -0.08016666666666666, -0.35594444444444445, -0.30347142857142856, -0.26185, -0.16734444444444443, -0.6159, -0.6858, -0.36046666666666666, -0.27513333333333334, -0.2105857142857143, -0.35305714285714285, -0.0747, 0.0172, -0.21975, -0.24910000000000002, -0.41369999999999996, -0.485575, -0.3447, -0.18107142857142858, -0.21027777777777779, -0.30433333333333334, -0.6705, -0.6486, -0.19195, -0.1461, -0.03036666666666667, -0.3532142857142857, -0.6597, -0.231275, -0.3686142857142857, -0.37984285714285715, -0.12571428571428572, -0.17365000000000003, -0.1648, -0.406225, -0.17556666666666665, -0.21351666666666666, -0.13094, -0.2034, -0.337625, -0.4567333333333333, -0.6822874999999999, -0.32924285714285717, -0.578775, -0.37533333333333335, -0.4707777777777778, -0.20695, -0.8316]\n",
      "Mean Bias sentence based:- -0.3391383771924347 0.2096663673757867\n"
     ]
    }
   ],
   "source": [
    "l_boy,b_boy=word_sent(['boy','man','male','men','husband','son','brother','father'])"
   ]
  },
  {
   "cell_type": "code",
   "execution_count": 84,
   "metadata": {},
   "outputs": [
    {
     "data": {
      "text/plain": [
       "Text(0, 0.5, 'Value of Sentiment Bias.')"
      ]
     },
     "execution_count": 84,
     "metadata": {},
     "output_type": "execute_result"
    },
    {
     "data": {
      "image/png": "[encoded data removed]",
      "text/plain": [
       "<Figure size 1008x720 with 1 Axes>"
      ]
     },
     "metadata": {},
     "output_type": "display_data"
    }
   ],
   "source": [
    "import pandas as pd\n",
    "#temp=pd.DataFrame({'Original Sentiment':ls,'Category Bias:SC/ST':b_dal,'Religion Bias: Islam':b_mul,'Religion Bias: Hindi':b_hin,'Political Bias: Congress':b_con,'Political Bias: BJP':b_bjp})\n",
    "fig = plt.figure(1, figsize=(14, 10))\n",
    "import random\n",
    "import matplotlib\n",
    "\n",
    "\n",
    "SMALL_SIZE = 8\n",
    "MEDIUM_SIZE = 12\n",
    "BIGGER_SIZE = 18\n",
    "\n",
    "#plt.rc('font', size=SMALL_SIZE)          # controls default text sizes\n",
    "plt.rc('axes', titlesize=BIGGER_SIZE)     # fontsize of the axes title\n",
    "plt.rc('axes', labelsize=BIGGER_SIZE)    # fontsize of the x and y labels\n",
    "plt.rc('xtick', labelsize=MEDIUM_SIZE)    # fontsize of the tick labels\n",
    "plt.rc('ytick', labelsize=MEDIUM_SIZE)    # fontsize of the tick labels\n",
    "#plt.rc('legend', fontsize=SMALL_SIZE)    # legend fontsize\n",
    "plt.rc('figure', titlesize=BIGGER_SIZE)\n",
    "\n",
    "# Create an axes instance\n",
    "ax = fig.add_subplot(111)\n",
    "\n",
    "bp = ax.boxplot([ls,b_dal,b_mul,b_hin,b_con,b_bjp,b_bsp,b_sam,b_boy,b_girl], showmeans=True,whis=[5,95],labels=['Original\\nSentiment','Category\\nBias:SC/ST','Religion\\nBias: Islam','Religion\\nBias: Hindu', 'Political\\nBias: Congress','Political\\nBias: BJP','Political\\nBias: BSP','Political\\nBias: SP','Gender\\nBias: Female', 'Gender\\nBias: Male'],patch_artist=True)\n",
    "\n",
    "## change outline color, fill color and linewidth of the boxes\n",
    "for box in bp['boxes']:\n",
    "    # change outline color\n",
    "    box.set( color='#000000', linewidth=2)\n",
    "    # change fill color\n",
    "    \n",
    "    random_number = random.randint(0,16777215)\n",
    "    hex_number = str(hex(random_number))\n",
    "    hex_number ='#'+ hex_number[2:]\n",
    "    box.set( facecolor = hex_number )\n",
    "\n",
    "## change color and linewidth of the whiskers\n",
    "for whisker in bp['whiskers']:\n",
    "    whisker.set(color='#7570b3', linewidth=2)\n",
    "\n",
    "## change color and linewidth of the caps\n",
    "for cap in bp['caps']:\n",
    "    cap.set(color='#7570b3', linewidth=2)\n",
    "\n",
    "## change color and linewidth of the medians\n",
    "for median in bp['medians']:\n",
    "    median.set(color='#000000', linewidth=2)\n",
    "\n",
    "## change the style of fliers and their fill\n",
    "for flier in bp['fliers']:\n",
    "    flier.set(marker='o', color='#e7298a', alpha=0.5)\n",
    "\n",
    "    # Add labels\n",
    "plt.ylim(-1, 1)\n",
    "#ax.set_xticklabels(xticklabels, rotation = 45, ha=\"right\")\n",
    "#plt.legend([\"Article Sentiment\", \"Title Sentiment\",'c','d'], loc =\"upper right\")  \n",
    "plt.title('BoxPlot of Sentiment Value w.r.t. to different biases')\n",
    "plt.xlabel('Different Types of Biases')\n",
    "plt.ylabel('Value of Sentiment Bias.')"
   ]
  },
  {
   "cell_type": "code",
   "execution_count": null,
   "metadata": {},
   "outputs": [],
   "source": [
    "clean_text_join=clean_text\n",
    "for i in range(0,len(clean_text)):\n",
    "    clean_text_join[i]=' '.join(clean_text[i])"
   ]
  },
  {
   "cell_type": "code",
   "execution_count": null,
   "metadata": {},
   "outputs": [],
   "source": [
    "from sklearn.feature_extraction.text import CountVectorizer\n",
    "matrix = CountVectorizer(max_features=1000)\n",
    "X = matrix.fit_transform(clean_text_join).toarray()"
   ]
  },
  {
   "cell_type": "code",
   "execution_count": null,
   "metadata": {},
   "outputs": [],
   "source": [
    "X.shape"
   ]
  },
  {
   "cell_type": "code",
   "execution_count": null,
   "metadata": {},
   "outputs": [],
   "source": [
    "y=[0]*len(df2)\n",
    "j=0\n",
    "X2=X\n",
    "for i in range(len(df2)-1,-1,-1):\n",
    "    if ',' in str(df2.loc[i,'Women_reason']):\n",
    "        y[i]=int(df2.loc[i,'Women_reason'].split(',')[-1].strip())\n",
    "        for q in df2.loc[i,'Women_reason'].split(',')[:-1]:\n",
    "            X2=np.insert(X2,i,X2[i],axis=0)\n",
    "            y.insert(i,int(str(q).strip()))\n",
    "    else:\n",
    "        y[i]=int(str(df2.loc[i,'Women_reason']).strip())"
   ]
  },
  {
   "cell_type": "code",
   "execution_count": null,
   "metadata": {},
   "outputs": [],
   "source": [
    "print(len(y))\n",
    "X2.shape"
   ]
  },
  {
   "cell_type": "code",
   "execution_count": null,
   "metadata": {},
   "outputs": [],
   "source": [
    "y=np.array(y)\n",
    "y2=y>0\n",
    "print(len(y2))\n",
    "from sklearn.model_selection import train_test_split\n",
    "X_train, X_test, y_train, y_test = train_test_split(X2, y2,test_size=0.1)"
   ]
  },
  {
   "cell_type": "code",
   "execution_count": null,
   "metadata": {},
   "outputs": [],
   "source": [
    "from sklearn.naive_bayes import GaussianNB\n",
    "classifier = GaussianNB()\n",
    "classifier.fit(X_train, y_train)"
   ]
  },
  {
   "cell_type": "code",
   "execution_count": null,
   "metadata": {},
   "outputs": [],
   "source": [
    "y_pred = classifier.predict(X_test)\n",
    "from sklearn.metrics import accuracy_score\n",
    "accuracy = accuracy_score(y_test, y_pred)\n",
    "print(accuracy)\n",
    "from sklearn.metrics import classification_report\n",
    "print(classification_report(y_test, y_pred))\n",
    "#auto-classification"
   ]
  },
  {
   "cell_type": "code",
   "execution_count": null,
   "metadata": {},
   "outputs": [],
   "source": [
    "text2=[]\n",
    "for i in range(0,len(df2)):\n",
    "    text2.append(nltk.word_tokenize(df2.loc[i,'Title']))"
   ]
  },
  {
   "cell_type": "code",
   "execution_count": null,
   "metadata": {},
   "outputs": [],
   "source": [
    "from nltk.stem.wordnet import WordNetLemmatizer\n",
    "\n",
    "import re, string\n",
    "\n",
    "def remove_noise(tweet_tokens, stop_words = ()):\n",
    "\n",
    "    cleaned_tokens = []\n",
    "    rem=['’','“','”',\"'s\",'wa','ha']\n",
    "    for token in tweet_tokens:\n",
    "        token = re.sub('http[s]?://(?:[a-zA-Z]|[0-9]|[$-_@.&+#]|[!*\\(\\),]|'\\\n",
    "                       '(?:%[0-9a-fA-F][0-9a-fA-F]))+','', token)\n",
    "        token = re.sub(\"(@[A-Za-z0-9_]+)\",\"\", token)\n",
    "\n",
    "        lemmatizer = WordNetLemmatizer()\n",
    "        token = lemmatizer.lemmatize(token)\n",
    "\n",
    "        if len(token) > 0 and token not in rem and not token.isdecimal() and token not in string.punctuation and token.lower() not in stop_words:\n",
    "            cleaned_tokens.append(token.lower())\n",
    "    return cleaned_tokens"
   ]
  },
  {
   "cell_type": "code",
   "execution_count": null,
   "metadata": {},
   "outputs": [],
   "source": [
    "from nltk.corpus import stopwords\n",
    "stop_words = stopwords.words('english')\n",
    "clean_text2=[]\n",
    "\n",
    "for i in text2:\n",
    "    clean_text2.append(remove_noise(i,stop_words))"
   ]
  },
  {
   "cell_type": "code",
   "execution_count": null,
   "metadata": {},
   "outputs": [],
   "source": [
    "def get_all_words(cleaned_tokens_list):\n",
    "    for tokens in cleaned_tokens_list:\n",
    "        for token in tokens:\n",
    "            yield token"
   ]
  },
  {
   "cell_type": "code",
   "execution_count": null,
   "metadata": {},
   "outputs": [],
   "source": [
    "from nltk import FreqDist\n",
    "all_words=get_all_words(clean_text2)\n",
    "fd = FreqDist(all_words)"
   ]
  },
  {
   "cell_type": "code",
   "execution_count": null,
   "metadata": {},
   "outputs": [],
   "source": [
    "clean_text2[-1]"
   ]
  },
  {
   "cell_type": "code",
   "execution_count": null,
   "metadata": {},
   "outputs": [],
   "source": [
    "print(fd.most_common(50))"
   ]
  },
  {
   "cell_type": "code",
   "execution_count": null,
   "metadata": {},
   "outputs": [],
   "source": [
    "import itertools\n",
    "clean_text_all=list(itertools.chain.from_iterable(clean_text2))\n",
    "print (len(clean_text_all))"
   ]
  },
  {
   "cell_type": "code",
   "execution_count": null,
   "metadata": {},
   "outputs": [],
   "source": [
    "finder = nltk.collocations.TrigramCollocationFinder.from_words(clean_text_all)\n",
    "finder.ngram_fd.most_common(10)"
   ]
  },
  {
   "cell_type": "code",
   "execution_count": null,
   "metadata": {},
   "outputs": [],
   "source": [
    "finder = nltk.collocations.BigramCollocationFinder.from_words(clean_text_all)\n",
    "finder.ngram_fd.most_common(10)"
   ]
  },
  {
   "cell_type": "code",
   "execution_count": null,
   "metadata": {},
   "outputs": [],
   "source": [
    "finder = nltk.collocations.QuadgramCollocationFinder.from_words(clean_text_all)\n",
    "finder.ngram_fd.most_common(10)"
   ]
  },
  {
   "cell_type": "code",
   "execution_count": null,
   "metadata": {},
   "outputs": [],
   "source": [
    "from nltk.sentiment import SentimentIntensityAnalyzer\n",
    "sia = SentimentIntensityAnalyzer()\n",
    "cnt=0\n",
    "ls2=[]\n",
    "for i in range(0,len(text2)):\n",
    "    scores = [sia.polarity_scores(sentence)[\"compound\"] for sentence in nltk.sent_tokenize(df2.loc[i,'Title'])]\n",
    "    m=mean(scores)\n",
    "    print(m)\n",
    "    ls2.append(m)\n",
    "    if m>0:\n",
    "        cnt+=1\n",
    "    else:\n",
    "        cnt-=1\n",
    "print(cnt,len(text))\n",
    "print(mean(ls2))"
   ]
  },
  {
   "cell_type": "code",
   "execution_count": null,
   "metadata": {},
   "outputs": [],
   "source": [
    "import numpy as np\n",
    "print(mean(ls2))\n",
    "print(([i>-0.473918 for i in ls2].count(1)))\n",
    "print(np.std(ls2))"
   ]
  },
  {
   "cell_type": "code",
   "execution_count": null,
   "metadata": {},
   "outputs": [],
   "source": [
    "sns.distplot(ls, hist=False, kde=True, \n",
    "             bins=50, color = 'darkred', \n",
    "             kde_kws={'shade': True,'linewidth': 2})\n",
    "sns.distplot(ls2, hist=False, kde=True, \n",
    "             bins=50, color = 'darkgreen', \n",
    "             kde_kws={'shade': True,'linewidth': 2})\n",
    "# Add labels\n",
    "plt.xlim(-1, 1)\n",
    "plt.legend([\"Article Sentiment\", \"Title Sentiment\"], loc =\"upper right\")  \n",
    "plt.title('Plot of Frequency vs Sentiment Value')\n",
    "plt.xlabel('Value of Sentiment Bias')\n",
    "plt.ylabel('Density of Articles.')"
   ]
  },
  {
   "cell_type": "code",
   "execution_count": null,
   "metadata": {},
   "outputs": [],
   "source": [
    "import pandas as pd\n",
    "temp=pd.DataFrame({'Article Analysis':ls,'Title Analysis':ls2})\n",
    "my_pal = {'Article Analysis':'#ff6666','Title Analysis':\"#33dd33\"}\n",
    "sns.boxplot(data=temp, width=.6, palette=my_pal,whis=[5,95])"
   ]
  },
  {
   "cell_type": "code",
   "execution_count": null,
   "metadata": {},
   "outputs": [],
   "source": [
    "from statistics import mean\n",
    "bias_vic=[]\n",
    "\n",
    "for i in range(0,len(text2)):\n",
    "    scores = [sia.polarity_scores(sentence)[\"compound\"] for sentence in nltk.sent_tokenize(df2.loc[i,'Title']) if 'victim' in sentence.lower() or 'survivor' in sentence.lower()]\n",
    "    if len(scores)!=0:\n",
    "        bias_vic.append(mean(scores))\n",
    "print(len(bias_vic))    \n",
    "print(mean(bias_vic),np.var(bias_vic))"
   ]
  },
  {
   "cell_type": "code",
   "execution_count": null,
   "metadata": {},
   "outputs": [],
   "source": [
    "from statistics import mean\n",
    "for q in range(1,9,1):\n",
    "    print(\"Reason :\",q)\n",
    "    bias_vic=[]\n",
    "    for i in range(0,len(text2)):\n",
    "        if int(df2.loc[i,'Murder_reason'])==q:\n",
    "            scores = [sia.polarity_scores(sentence)[\"compound\"] for sentence in nltk.sent_tokenize(df2.loc[i,'Title']) if 'victim' in sentence.lower() or 'survivor' in sentence.lower()]\n",
    "            if len(scores)!=0:\n",
    "                bias_vic.append(mean(scores))\n",
    "    print(len(bias_vic)) \n",
    "    if len(bias_vic)!=0:\n",
    "        print(mean(bias_vic),np.var(bias_vic))"
   ]
  },
  {
   "cell_type": "code",
   "execution_count": null,
   "metadata": {},
   "outputs": [],
   "source": [
    "from statistics import mean\n",
    "for q in range(1,11,1):\n",
    "    print(\"Reason :\",q)\n",
    "    bias_vic=[]\n",
    "    for i in range(0,len(text2)):\n",
    "        if str(q) in str(df2.loc[i,'Women_reason']).split(','):\n",
    "            scores = [sia.polarity_scores(sentence)[\"compound\"] for sentence in nltk.sent_tokenize(df2.loc[i,'Title']) if 'victim' in sentence.lower() or 'survivor' in sentence.lower()]\n",
    "            if len(scores)!=0:\n",
    "                bias_vic.append(mean(scores))\n",
    "    print(len(bias_vic)) \n",
    "    if len(bias_vic)!=0:\n",
    "        print(mean(bias_vic),np.var(bias_vic))"
   ]
  },
  {
   "cell_type": "code",
   "execution_count": null,
   "metadata": {},
   "outputs": [],
   "source": [
    "from statistics import mean\n",
    "bias_acc=[]\n",
    "\n",
    "for i in range(0,len(text2)):\n",
    "    scores = [sia.polarity_scores(sentence)[\"compound\"] for sentence in nltk.sent_tokenize(df2.loc[i,'Title']) if 'accused' in sentence.lower() or 'murderer' in sentence.lower() or 'assaulted' in sentence.lower() or 'rapist' in sentence.lower() or 'killer' in sentence.lower()]\n",
    "    #print(scores)\n",
    "    if len(scores)!=0:\n",
    "        bias_acc.append(mean(scores))\n",
    "print(len(bias_acc))\n",
    "print(mean(bias_acc))"
   ]
  },
  {
   "cell_type": "code",
   "execution_count": null,
   "metadata": {},
   "outputs": [],
   "source": [
    "from statistics import mean\n",
    "for q in range(1,9,1):\n",
    "    print(\"Reason :\",q)\n",
    "    bias_acc=[]\n",
    "    for i in range(0,len(text2)):\n",
    "        if int(df2.loc[i,'Murder_reason'])==q:\n",
    "            scores = [sia.polarity_scores(sentence)[\"compound\"] for sentence in nltk.sent_tokenize(df2.loc[i,'Title']) if 'accused' in sentence.lower() or 'murderer' in sentence.lower() or 'assaulted' in sentence.lower() or 'rapist' in sentence.lower() or 'killer' in sentence.lower()]\n",
    "            if len(scores)!=0:\n",
    "                bias_acc.append(mean(scores))\n",
    "    print(len(bias_acc)) \n",
    "    if len(bias_acc)!=0:\n",
    "        print(mean(bias_acc),np.var(bias_acc))"
   ]
  },
  {
   "cell_type": "code",
   "execution_count": null,
   "metadata": {},
   "outputs": [],
   "source": [
    "from statistics import mean\n",
    "for q in range(1,11,1):\n",
    "    print(\"Reason :\",q)\n",
    "    bias_acc=[]\n",
    "    for i in range(0,len(text2)):\n",
    "        if str(q) in str(df2.loc[i,'Women_reason']).split(','):\n",
    "            scores = [sia.polarity_scores(sentence)[\"compound\"] for sentence in nltk.sent_tokenize(df2.loc[i,'Title']) if 'accused' in sentence.lower() or 'murderer' in sentence.lower() or 'assaulted' in sentence.lower() or 'rapist' in sentence.lower() or 'killer' in sentence.lower()]\n",
    "            if len(scores)!=0:\n",
    "                bias_acc.append(mean(scores))\n",
    "    print(len(bias_acc)) \n",
    "    if len(bias_acc)!=0:\n",
    "        print(mean(bias_acc),np.var(bias_acc))"
   ]
  },
  {
   "cell_type": "code",
   "execution_count": null,
   "metadata": {},
   "outputs": [],
   "source": [
    "from statistics import mean\n",
    "for q in range(1,11,1):\n",
    "    print(\"Reason :\",q)\n",
    "    bias_acc=[]\n",
    "    for i in range(0,len(text2)):\n",
    "        if str(q) in str(df2.loc[i,'Women_reason']).split(','):\n",
    "            scores = [sia.polarity_scores(sentence)[\"compound\"] for sentence in nltk.sent_tokenize(df2.loc[i,'Title']) if 'victim' in sentence.lower() or 'survivor' in sentence.lower()]\n",
    "            if len(scores)!=0:\n",
    "                bias_acc.append(mean(scores))\n",
    "    print(len(bias_acc)) \n",
    "    if len(bias_acc)!=0:\n",
    "        print(mean(bias_acc),np.var(bias_acc))"
   ]
  },
  {
   "cell_type": "code",
   "execution_count": null,
   "metadata": {},
   "outputs": [],
   "source": [
    "from nltk.sentiment import SentimentIntensityAnalyzer\n",
    "sia = SentimentIntensityAnalyzer()\n",
    "def word_sent2(s):\n",
    "    global df2\n",
    "    ls=[]\n",
    "    for i in range(0,len(text2)):\n",
    "        for j in s:\n",
    "            if j in df2.loc[i,'Title'].lower():\n",
    "                #print(df2.loc[i,'Text'].lower())\n",
    "                scores = [sia.polarity_scores(sentence)[\"compound\"] for sentence in nltk.sent_tokenize(df2.loc[i,'Title'])]\n",
    "                m=mean(scores)\n",
    "                ls.append(m)\n",
    "                break\n",
    "    print(\"Length:-\",len(ls))\n",
    "    if len(ls)!=0:\n",
    "        print(\"Mean:-\",mean(ls),np.std(ls))\n",
    "    print(ls)\n",
    "    bias=[]\n",
    "    for i in range(0,len(text2)):\n",
    "        scores=[]\n",
    "        for sentence in nltk.sent_tokenize(df2.loc[i,'Title']):\n",
    "            for j in s:\n",
    "                if j in sentence.lower():\n",
    "                    #print(sentence)\n",
    "                    scores.append(sia.polarity_scores(sentence)[\"compound\"])\n",
    "                    break\n",
    "        if len(scores)!=0:\n",
    "            bias.append(mean(scores))\n",
    "    print(bias)\n",
    "    if len(bias)!=0:\n",
    "        print(\"Mean Bias sentence based:-\",mean(bias),np.std(bias))\n",
    "    return ls,bias"
   ]
  },
  {
   "cell_type": "code",
   "execution_count": null,
   "metadata": {},
   "outputs": [],
   "source": [
    "l_dal,b_dal=word_sent2(['dalit','sc/st'])"
   ]
  },
  {
   "cell_type": "code",
   "execution_count": null,
   "metadata": {},
   "outputs": [],
   "source": [
    "l_mul,b_mul=word_sent2(['islam','muslim'])"
   ]
  },
  {
   "cell_type": "code",
   "execution_count": null,
   "metadata": {},
   "outputs": [],
   "source": [
    "l_mul,b_mul=word_sent2(['hindu'])"
   ]
  },
  {
   "cell_type": "code",
   "execution_count": null,
   "metadata": {},
   "outputs": [],
   "source": [
    "l_mul,b_mul=word_sent2(['congress'])"
   ]
  },
  {
   "cell_type": "code",
   "execution_count": null,
   "metadata": {},
   "outputs": [],
   "source": [
    "l_mul,b_mul=word_sent2(['bjp'])"
   ]
  },
  {
   "cell_type": "code",
   "execution_count": null,
   "metadata": {},
   "outputs": [],
   "source": [
    "l_mul,b_mul=word_sent2(['bsp','bahujan'])"
   ]
  },
  {
   "cell_type": "code",
   "execution_count": null,
   "metadata": {},
   "outputs": [],
   "source": [
    "l_mul,b_mul=word_sent2(['samajwadi'])"
   ]
  },
  {
   "cell_type": "code",
   "execution_count": null,
   "metadata": {},
   "outputs": [],
   "source": [
    "l_mul,b_mul=word_sent2(['girl','woman','female','women','wife','daughter','sister','mother',])"
   ]
  },
  {
   "cell_type": "code",
   "execution_count": null,
   "metadata": {},
   "outputs": [],
   "source": [
    "l_mul,b_mul=word_sent2(['boy','man','male','men','husband','son','brother','father'])"
   ]
  },
  {
   "cell_type": "code",
   "execution_count": null,
   "metadata": {},
   "outputs": [],
   "source": [
    "clean_text_join2=clean_text2\n",
    "for i in range(0,len(clean_text2)):\n",
    "    clean_text_join2[i]=' '.join(clean_text2[i])"
   ]
  },
  {
   "cell_type": "code",
   "execution_count": null,
   "metadata": {},
   "outputs": [],
   "source": [
    "from sklearn.feature_extraction.text import CountVectorizer\n",
    "matrix = CountVectorizer(max_features=1000)\n",
    "X = matrix.fit_transform(clean_text_join2).toarray()"
   ]
  },
  {
   "cell_type": "code",
   "execution_count": null,
   "metadata": {},
   "outputs": [],
   "source": [
    "X.shape"
   ]
  },
  {
   "cell_type": "code",
   "execution_count": null,
   "metadata": {},
   "outputs": [],
   "source": [
    "y=[0]*len(df2)\n",
    "j=0\n",
    "X2=X\n",
    "for i in range(len(df2)-1,-1,-1):\n",
    "    if ',' in str(df2.loc[i,'Women_reason']):\n",
    "        y[i]=int(df2.loc[i,'Women_reason'].split(',')[-1].strip())\n",
    "        for q in df2.loc[i,'Women_reason'].split(',')[:-1]:\n",
    "            X2=np.insert(X2,i,X2[i],axis=0)\n",
    "            y.insert(i,int(str(q).strip()))\n",
    "    else:\n",
    "        y[i]=int(str(df2.loc[i,'Women_reason']).strip())"
   ]
  },
  {
   "cell_type": "code",
   "execution_count": null,
   "metadata": {},
   "outputs": [],
   "source": [
    "print(len(y))\n",
    "X2.shape"
   ]
  },
  {
   "cell_type": "code",
   "execution_count": null,
   "metadata": {},
   "outputs": [],
   "source": [
    "y=np.array(y)\n",
    "y2=y>0\n",
    "print(len(y2))\n",
    "from sklearn.model_selection import train_test_split\n",
    "X_train, X_test, y_train, y_test = train_test_split(X2, y2,test_size=0.1)"
   ]
  },
  {
   "cell_type": "code",
   "execution_count": null,
   "metadata": {},
   "outputs": [],
   "source": [
    "from sklearn.naive_bayes import GaussianNB\n",
    "classifier = GaussianNB()\n",
    "classifier.fit(X_train, y_train)"
   ]
  },
  {
   "cell_type": "code",
   "execution_count": null,
   "metadata": {},
   "outputs": [],
   "source": [
    "y_pred = classifier.predict(X_test)\n",
    "from sklearn.metrics import accuracy_score\n",
    "accuracy = accuracy_score(y_test, y_pred)\n",
    "print(accuracy)\n",
    "from sklearn.metrics import classification_report\n",
    "print(classification_report(y_test, y_pred))\n",
    "#auto-classification"
   ]
  },
  {
   "cell_type": "code",
   "execution_count": null,
   "metadata": {},
   "outputs": [],
   "source": []
  }
 ],
 "metadata": {
  "kernelspec": {
   "display_name": "Python 3",
   "language": "python",
   "name": "python3"
  },
  "language_info": {
   "codemirror_mode": {
    "name": "ipython",
    "version": 3
   },
   "file_extension": ".py",
   "mimetype": "text/x-python",
   "name": "python",
   "nbconvert_exporter": "python",
   "pygments_lexer": "ipython3",
   "version": "3.8.5"
  }
 },
 "nbformat": 4,
 "nbformat_minor": 4
}
